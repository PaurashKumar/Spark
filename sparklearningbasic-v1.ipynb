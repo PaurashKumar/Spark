{
 "cells": [
  {
   "cell_type": "code",
   "execution_count": 1,
   "id": "20977dfd",
   "metadata": {
    "execution": {
     "iopub.execute_input": "2023-10-12T20:21:25.230681Z",
     "iopub.status.busy": "2023-10-12T20:21:25.230248Z",
     "iopub.status.idle": "2023-10-12T20:22:14.354215Z",
     "shell.execute_reply": "2023-10-12T20:22:14.353080Z"
    },
    "papermill": {
     "duration": 49.135157,
     "end_time": "2023-10-12T20:22:14.356752",
     "exception": false,
     "start_time": "2023-10-12T20:21:25.221595",
     "status": "completed"
    },
    "tags": []
   },
   "outputs": [
    {
     "name": "stdout",
     "output_type": "stream",
     "text": [
      "Collecting pyspark\r\n",
      "  Downloading pyspark-3.5.0.tar.gz (316.9 MB)\r\n",
      "\u001b[2K     \u001b[90m━━━━━━━━━━━━━━━━━━━━━━━━━━━━━━━━━━━━━━━\u001b[0m \u001b[32m316.9/316.9 MB\u001b[0m \u001b[31m2.6 MB/s\u001b[0m eta \u001b[36m0:00:00\u001b[0m\r\n",
      "\u001b[?25h  Preparing metadata (setup.py) ... \u001b[?25l-\b \bdone\r\n",
      "\u001b[?25hRequirement already satisfied: py4j==0.10.9.7 in /opt/conda/lib/python3.10/site-packages (from pyspark) (0.10.9.7)\r\n",
      "Building wheels for collected packages: pyspark\r\n",
      "  Building wheel for pyspark (setup.py) ... \u001b[?25l-\b \b\\\b \b|\b \bdone\r\n",
      "\u001b[?25h  Created wheel for pyspark: filename=pyspark-3.5.0-py2.py3-none-any.whl size=317425350 sha256=7951aa2c51deae583699f734643df8ceefe5c69c3d250bd592edb11e77985238\r\n",
      "  Stored in directory: /root/.cache/pip/wheels/41/4e/10/c2cf2467f71c678cfc8a6b9ac9241e5e44a01940da8fbb17fc\r\n",
      "Successfully built pyspark\r\n",
      "Installing collected packages: pyspark\r\n",
      "Successfully installed pyspark-3.5.0\r\n"
     ]
    }
   ],
   "source": [
    "!pip install pyspark\n"
   ]
  },
  {
   "cell_type": "code",
   "execution_count": 2,
   "id": "dcb9790a",
   "metadata": {
    "execution": {
     "iopub.execute_input": "2023-10-12T20:22:14.382404Z",
     "iopub.status.busy": "2023-10-12T20:22:14.382005Z",
     "iopub.status.idle": "2023-10-12T20:22:14.468109Z",
     "shell.execute_reply": "2023-10-12T20:22:14.467094Z"
    },
    "papermill": {
     "duration": 0.101915,
     "end_time": "2023-10-12T20:22:14.470591",
     "exception": false,
     "start_time": "2023-10-12T20:22:14.368676",
     "status": "completed"
    },
    "tags": []
   },
   "outputs": [],
   "source": [
    "import pyspark"
   ]
  },
  {
   "cell_type": "code",
   "execution_count": 3,
   "id": "8fb26995",
   "metadata": {
    "execution": {
     "iopub.execute_input": "2023-10-12T20:22:14.495590Z",
     "iopub.status.busy": "2023-10-12T20:22:14.495049Z",
     "iopub.status.idle": "2023-10-12T20:22:14.939698Z",
     "shell.execute_reply": "2023-10-12T20:22:14.938652Z"
    },
    "papermill": {
     "duration": 0.45948,
     "end_time": "2023-10-12T20:22:14.941747",
     "exception": false,
     "start_time": "2023-10-12T20:22:14.482267",
     "status": "completed"
    },
    "tags": []
   },
   "outputs": [
    {
     "data": {
      "text/html": [
       "<div>\n",
       "<style scoped>\n",
       "    .dataframe tbody tr th:only-of-type {\n",
       "        vertical-align: middle;\n",
       "    }\n",
       "\n",
       "    .dataframe tbody tr th {\n",
       "        vertical-align: top;\n",
       "    }\n",
       "\n",
       "    .dataframe thead th {\n",
       "        text-align: right;\n",
       "    }\n",
       "</style>\n",
       "<table border=\"1\" class=\"dataframe\">\n",
       "  <thead>\n",
       "    <tr style=\"text-align: right;\">\n",
       "      <th></th>\n",
       "      <th>Name</th>\n",
       "      <th>age</th>\n",
       "      <th>city</th>\n",
       "    </tr>\n",
       "  </thead>\n",
       "  <tbody>\n",
       "    <tr>\n",
       "      <th>0</th>\n",
       "      <td>Paurash</td>\n",
       "      <td>25</td>\n",
       "      <td>BLG</td>\n",
       "    </tr>\n",
       "    <tr>\n",
       "      <th>1</th>\n",
       "      <td>Prashi</td>\n",
       "      <td>23</td>\n",
       "      <td>BLG</td>\n",
       "    </tr>\n",
       "    <tr>\n",
       "      <th>2</th>\n",
       "      <td>AAAAA</td>\n",
       "      <td>25</td>\n",
       "      <td>BLG</td>\n",
       "    </tr>\n",
       "    <tr>\n",
       "      <th>3</th>\n",
       "      <td>BBBBBB</td>\n",
       "      <td>25</td>\n",
       "      <td>BLG</td>\n",
       "    </tr>\n",
       "    <tr>\n",
       "      <th>4</th>\n",
       "      <td>CCCCCC</td>\n",
       "      <td>25</td>\n",
       "      <td>BLG</td>\n",
       "    </tr>\n",
       "    <tr>\n",
       "      <th>5</th>\n",
       "      <td>CCCCCC</td>\n",
       "      <td>25</td>\n",
       "      <td>BLG</td>\n",
       "    </tr>\n",
       "    <tr>\n",
       "      <th>6</th>\n",
       "      <td>DDDDD</td>\n",
       "      <td>25</td>\n",
       "      <td>BLG</td>\n",
       "    </tr>\n",
       "    <tr>\n",
       "      <th>7</th>\n",
       "      <td>EEEEEE</td>\n",
       "      <td>25</td>\n",
       "      <td>BLG</td>\n",
       "    </tr>\n",
       "  </tbody>\n",
       "</table>\n",
       "</div>"
      ],
      "text/plain": [
       "     Name   age  city\n",
       "0  Paurash    25  BLG\n",
       "1   Prashi    23  BLG\n",
       "2    AAAAA    25  BLG\n",
       "3   BBBBBB    25  BLG\n",
       "4   CCCCCC    25  BLG\n",
       "5   CCCCCC    25  BLG\n",
       "6    DDDDD    25  BLG\n",
       "7   EEEEEE    25  BLG"
      ]
     },
     "execution_count": 3,
     "metadata": {},
     "output_type": "execute_result"
    }
   ],
   "source": [
    "import pandas as pd\n",
    "pd.read_csv(\"/kaggle/input/testing1/Test.csv\")"
   ]
  },
  {
   "cell_type": "code",
   "execution_count": 4,
   "id": "2dacec1e",
   "metadata": {
    "execution": {
     "iopub.execute_input": "2023-10-12T20:22:14.966862Z",
     "iopub.status.busy": "2023-10-12T20:22:14.966455Z",
     "iopub.status.idle": "2023-10-12T20:22:21.041492Z",
     "shell.execute_reply": "2023-10-12T20:22:21.039996Z"
    },
    "papermill": {
     "duration": 6.090694,
     "end_time": "2023-10-12T20:22:21.044000",
     "exception": false,
     "start_time": "2023-10-12T20:22:14.953306",
     "status": "completed"
    },
    "tags": []
   },
   "outputs": [
    {
     "name": "stderr",
     "output_type": "stream",
     "text": [
      "Setting default log level to \"WARN\".\n",
      "To adjust logging level use sc.setLogLevel(newLevel). For SparkR, use setLogLevel(newLevel).\n",
      "23/10/12 20:22:18 WARN NativeCodeLoader: Unable to load native-hadoop library for your platform... using builtin-java classes where applicable\n"
     ]
    }
   ],
   "source": [
    "# Need to import to use date time\n",
    "from datetime import datetime, date\n",
    "\n",
    "# need to import to use pyspark\n",
    "from pyspark.sql import Row\n",
    "\n",
    "# need to import for session creation\n",
    "from pyspark.sql import SparkSession\n",
    "\n",
    "# creating the session\n",
    "spark = SparkSession.builder.appName('Practice').getOrCreate()\n",
    "\n",
    " \n",
    "\n",
    "# schema creation by passing list\n",
    "#df = spark.createDataFrame([\n",
    "#Row(a=1, b=4., c='GFG1', d=date(2000, 8, 1),\n",
    "#e=datetime(2000, 8, 1, 12, 0)),\n",
    "\n",
    "#Row(a=2, b=8., c='GFG2', d=date(2000, 6, 2),\n",
    "#e=datetime(2000, 6, 2, 12, 0)),\n",
    "\n",
    "#Row(a=4, b=5., c='GFG3', d=date(2000, 5, 3),\n",
    "#e=datetime(2000, 5, 3, 12, 0))\n",
    "#])\n",
    "\n",
    "# show table\n",
    "#df.show()\n",
    "\n",
    "# show schema\n",
    "#df.printSchema()"
   ]
  },
  {
   "cell_type": "code",
   "execution_count": 5,
   "id": "97b6ec44",
   "metadata": {
    "execution": {
     "iopub.execute_input": "2023-10-12T20:22:21.069842Z",
     "iopub.status.busy": "2023-10-12T20:22:21.069416Z",
     "iopub.status.idle": "2023-10-12T20:22:29.950053Z",
     "shell.execute_reply": "2023-10-12T20:22:29.948849Z"
    },
    "papermill": {
     "duration": 8.896153,
     "end_time": "2023-10-12T20:22:29.952515",
     "exception": false,
     "start_time": "2023-10-12T20:22:21.056362",
     "status": "completed"
    },
    "tags": []
   },
   "outputs": [
    {
     "name": "stderr",
     "output_type": "stream",
     "text": [
      "                                                                                \r"
     ]
    },
    {
     "name": "stdout",
     "output_type": "stream",
     "text": [
      "+-------+----+----+\n",
      "|    _c0| _c1| _c2|\n",
      "+-------+----+----+\n",
      "|  Name |age |city|\n",
      "|Paurash|  25| BLG|\n",
      "| Prashi|  23| BLG|\n",
      "|  AAAAA|  25| BLG|\n",
      "| BBBBBB|  25| BLG|\n",
      "| CCCCCC|  25| BLG|\n",
      "| CCCCCC|  25| BLG|\n",
      "|  DDDDD|  25| BLG|\n",
      "| EEEEEE|  25| BLG|\n",
      "+-------+----+----+\n",
      "\n"
     ]
    },
    {
     "data": {
      "text/plain": [
       "[Row(Name ='Paurash', age ='25', city='BLG'),\n",
       " Row(Name ='Prashi', age ='23', city='BLG'),\n",
       " Row(Name ='AAAAA', age ='25', city='BLG')]"
      ]
     },
     "execution_count": 5,
     "metadata": {},
     "output_type": "execute_result"
    }
   ],
   "source": [
    "df_pyspark=spark.read.csv(\"/kaggle/input/testing1/Test.csv\")\n",
    "df_pyspark.show()\n",
    "df_pyspark=spark.read.option('header','true').csv(\"/kaggle/input/testing1/Test.csv\")\n",
    "type(df_pyspark)\n",
    "df_pyspark.head(3)"
   ]
  },
  {
   "cell_type": "code",
   "execution_count": 6,
   "id": "ae356b91",
   "metadata": {
    "execution": {
     "iopub.execute_input": "2023-10-12T20:22:29.979800Z",
     "iopub.status.busy": "2023-10-12T20:22:29.978887Z",
     "iopub.status.idle": "2023-10-12T20:22:40.290663Z",
     "shell.execute_reply": "2023-10-12T20:22:40.289591Z"
    },
    "papermill": {
     "duration": 10.328293,
     "end_time": "2023-10-12T20:22:40.293181",
     "exception": false,
     "start_time": "2023-10-12T20:22:29.964888",
     "status": "completed"
    },
    "tags": []
   },
   "outputs": [
    {
     "name": "stdout",
     "output_type": "stream",
     "text": [
      "Requirement already satisfied: pyspark in /opt/conda/lib/python3.10/site-packages (3.5.0)\r\n",
      "Requirement already satisfied: py4j==0.10.9.7 in /opt/conda/lib/python3.10/site-packages (from pyspark) (0.10.9.7)\r\n"
     ]
    }
   ],
   "source": [
    "#date 10/13/2023\n",
    "#  -PySpark -Dataframe\n",
    "#  -Reading the datasets\n",
    "#  -Checking the datatypes of the column(Schema)\n",
    "#  -Selection Columns and Index\n",
    "#  _Checkin Describe option like to Pandas\n",
    "#  -Adding new column in data frame\n",
    "#  -Dropping new column in data frame\n",
    "\n",
    "!pip install pyspark\n"
   ]
  },
  {
   "cell_type": "code",
   "execution_count": 7,
   "id": "4fc0bdd7",
   "metadata": {
    "execution": {
     "iopub.execute_input": "2023-10-12T20:22:40.319260Z",
     "iopub.status.busy": "2023-10-12T20:22:40.318798Z",
     "iopub.status.idle": "2023-10-12T20:22:40.324357Z",
     "shell.execute_reply": "2023-10-12T20:22:40.323439Z"
    },
    "papermill": {
     "duration": 0.021177,
     "end_time": "2023-10-12T20:22:40.326445",
     "exception": false,
     "start_time": "2023-10-12T20:22:40.305268",
     "status": "completed"
    },
    "tags": []
   },
   "outputs": [],
   "source": [
    "import pyspark"
   ]
  },
  {
   "cell_type": "code",
   "execution_count": 8,
   "id": "b6e85351",
   "metadata": {
    "execution": {
     "iopub.execute_input": "2023-10-12T20:22:40.352102Z",
     "iopub.status.busy": "2023-10-12T20:22:40.351753Z",
     "iopub.status.idle": "2023-10-12T20:22:40.374014Z",
     "shell.execute_reply": "2023-10-12T20:22:40.372966Z"
    },
    "papermill": {
     "duration": 0.037788,
     "end_time": "2023-10-12T20:22:40.376114",
     "exception": false,
     "start_time": "2023-10-12T20:22:40.338326",
     "status": "completed"
    },
    "tags": []
   },
   "outputs": [
    {
     "name": "stderr",
     "output_type": "stream",
     "text": [
      "23/10/12 20:22:40 WARN SparkSession: Using an existing Spark session; only runtime SQL configurations will take effect.\n"
     ]
    },
    {
     "data": {
      "text/html": [
       "\n",
       "            <div>\n",
       "                <p><b>SparkSession - in-memory</b></p>\n",
       "                \n",
       "        <div>\n",
       "            <p><b>SparkContext</b></p>\n",
       "\n",
       "            <p><a href=\"http://56f67921af34:4040\">Spark UI</a></p>\n",
       "\n",
       "            <dl>\n",
       "              <dt>Version</dt>\n",
       "                <dd><code>v3.5.0</code></dd>\n",
       "              <dt>Master</dt>\n",
       "                <dd><code>local[*]</code></dd>\n",
       "              <dt>AppName</dt>\n",
       "                <dd><code>Practice</code></dd>\n",
       "            </dl>\n",
       "        </div>\n",
       "        \n",
       "            </div>\n",
       "        "
      ],
      "text/plain": [
       "<pyspark.sql.session.SparkSession at 0x79c9cd221d20>"
      ]
     },
     "execution_count": 8,
     "metadata": {},
     "output_type": "execute_result"
    }
   ],
   "source": [
    "from pyspark.sql import SparkSession\n",
    "\n",
    "spark=SparkSession.builder.appName(\"Dataframe\").getOrCreate()\n",
    "\n",
    "\n",
    "spark"
   ]
  },
  {
   "cell_type": "code",
   "execution_count": 9,
   "id": "25677893",
   "metadata": {
    "execution": {
     "iopub.execute_input": "2023-10-12T20:22:40.404947Z",
     "iopub.status.busy": "2023-10-12T20:22:40.404501Z",
     "iopub.status.idle": "2023-10-12T20:22:41.006572Z",
     "shell.execute_reply": "2023-10-12T20:22:41.005676Z"
    },
    "papermill": {
     "duration": 0.62014,
     "end_time": "2023-10-12T20:22:41.008950",
     "exception": false,
     "start_time": "2023-10-12T20:22:40.388810",
     "status": "completed"
    },
    "tags": []
   },
   "outputs": [],
   "source": [
    "# read the data set option -1\n",
    "df_pyspark=spark.read.option('header','true').csv('/kaggle/input/testing1/Test.csv',inferSchema=True)\n",
    "\n"
   ]
  },
  {
   "cell_type": "code",
   "execution_count": 10,
   "id": "0866db99",
   "metadata": {
    "execution": {
     "iopub.execute_input": "2023-10-12T20:22:41.036323Z",
     "iopub.status.busy": "2023-10-12T20:22:41.035437Z",
     "iopub.status.idle": "2023-10-12T20:22:41.045221Z",
     "shell.execute_reply": "2023-10-12T20:22:41.043939Z"
    },
    "papermill": {
     "duration": 0.025768,
     "end_time": "2023-10-12T20:22:41.047188",
     "exception": false,
     "start_time": "2023-10-12T20:22:41.021420",
     "status": "completed"
    },
    "tags": []
   },
   "outputs": [
    {
     "name": "stdout",
     "output_type": "stream",
     "text": [
      "root\n",
      " |-- Name : string (nullable = true)\n",
      " |-- age : integer (nullable = true)\n",
      " |-- city: string (nullable = true)\n",
      "\n"
     ]
    }
   ],
   "source": [
    "# check the schema\n",
    "\n",
    "df_pyspark.printSchema()"
   ]
  },
  {
   "cell_type": "code",
   "execution_count": 11,
   "id": "2a8dafae",
   "metadata": {
    "execution": {
     "iopub.execute_input": "2023-10-12T20:22:41.073841Z",
     "iopub.status.busy": "2023-10-12T20:22:41.073364Z",
     "iopub.status.idle": "2023-10-12T20:22:41.658007Z",
     "shell.execute_reply": "2023-10-12T20:22:41.656739Z"
    },
    "papermill": {
     "duration": 0.601909,
     "end_time": "2023-10-12T20:22:41.661431",
     "exception": false,
     "start_time": "2023-10-12T20:22:41.059522",
     "status": "completed"
    },
    "tags": []
   },
   "outputs": [
    {
     "name": "stdout",
     "output_type": "stream",
     "text": [
      "root\n",
      " |-- Name : string (nullable = true)\n",
      " |-- age : integer (nullable = true)\n",
      " |-- city: string (nullable = true)\n",
      "\n"
     ]
    }
   ],
   "source": [
    "# read the data set option - 2\n",
    "df_pyspark=spark.read.csv('/kaggle/input/testing1/Test.csv',header=True,inferSchema=True)\n",
    "df_pyspark.printSchema()"
   ]
  },
  {
   "cell_type": "code",
   "execution_count": 12,
   "id": "a2f9d91b",
   "metadata": {
    "execution": {
     "iopub.execute_input": "2023-10-12T20:22:41.707838Z",
     "iopub.status.busy": "2023-10-12T20:22:41.707343Z",
     "iopub.status.idle": "2023-10-12T20:22:41.715106Z",
     "shell.execute_reply": "2023-10-12T20:22:41.714071Z"
    },
    "papermill": {
     "duration": 0.03411,
     "end_time": "2023-10-12T20:22:41.717722",
     "exception": false,
     "start_time": "2023-10-12T20:22:41.683612",
     "status": "completed"
    },
    "tags": []
   },
   "outputs": [
    {
     "data": {
      "text/plain": [
       "pyspark.sql.dataframe.DataFrame"
      ]
     },
     "execution_count": 12,
     "metadata": {},
     "output_type": "execute_result"
    }
   ],
   "source": [
    "type(df_pyspark)"
   ]
  },
  {
   "cell_type": "code",
   "execution_count": 13,
   "id": "36b58b96",
   "metadata": {
    "execution": {
     "iopub.execute_input": "2023-10-12T20:22:41.845089Z",
     "iopub.status.busy": "2023-10-12T20:22:41.844534Z",
     "iopub.status.idle": "2023-10-12T20:22:41.854450Z",
     "shell.execute_reply": "2023-10-12T20:22:41.853708Z"
    },
    "papermill": {
     "duration": 0.031988,
     "end_time": "2023-10-12T20:22:41.856674",
     "exception": false,
     "start_time": "2023-10-12T20:22:41.824686",
     "status": "completed"
    },
    "tags": []
   },
   "outputs": [
    {
     "data": {
      "text/plain": [
       "['Name ', 'age ', 'city']"
      ]
     },
     "execution_count": 13,
     "metadata": {},
     "output_type": "execute_result"
    }
   ],
   "source": [
    "# find the column name\n",
    "df_pyspark.columns"
   ]
  },
  {
   "cell_type": "code",
   "execution_count": 14,
   "id": "89df7e53",
   "metadata": {
    "execution": {
     "iopub.execute_input": "2023-10-12T20:22:41.900487Z",
     "iopub.status.busy": "2023-10-12T20:22:41.898781Z",
     "iopub.status.idle": "2023-10-12T20:22:42.096542Z",
     "shell.execute_reply": "2023-10-12T20:22:42.095514Z"
    },
    "papermill": {
     "duration": 0.222425,
     "end_time": "2023-10-12T20:22:42.099501",
     "exception": false,
     "start_time": "2023-10-12T20:22:41.877076",
     "status": "completed"
    },
    "tags": []
   },
   "outputs": [
    {
     "data": {
      "text/plain": [
       "[Row(Name ='Paurash', age =25, city='BLG'),\n",
       " Row(Name ='Prashi', age =23, city='BLG')]"
      ]
     },
     "execution_count": 14,
     "metadata": {},
     "output_type": "execute_result"
    }
   ],
   "source": [
    "# find head and tail records\n",
    "df_pyspark.head(2)"
   ]
  },
  {
   "cell_type": "code",
   "execution_count": 15,
   "id": "fb736b06",
   "metadata": {
    "execution": {
     "iopub.execute_input": "2023-10-12T20:22:42.150315Z",
     "iopub.status.busy": "2023-10-12T20:22:42.149691Z",
     "iopub.status.idle": "2023-10-12T20:22:42.324103Z",
     "shell.execute_reply": "2023-10-12T20:22:42.322619Z"
    },
    "papermill": {
     "duration": 0.203713,
     "end_time": "2023-10-12T20:22:42.328027",
     "exception": false,
     "start_time": "2023-10-12T20:22:42.124314",
     "status": "completed"
    },
    "tags": []
   },
   "outputs": [
    {
     "data": {
      "text/plain": [
       "[Row(Name ='DDDDD', age =25, city='BLG'),\n",
       " Row(Name ='EEEEEE', age =25, city='BLG')]"
      ]
     },
     "execution_count": 15,
     "metadata": {},
     "output_type": "execute_result"
    }
   ],
   "source": [
    "df_pyspark.tail(2)"
   ]
  },
  {
   "cell_type": "code",
   "execution_count": 16,
   "id": "2e4070ae",
   "metadata": {
    "execution": {
     "iopub.execute_input": "2023-10-12T20:22:42.377987Z",
     "iopub.status.busy": "2023-10-12T20:22:42.377498Z",
     "iopub.status.idle": "2023-10-12T20:22:42.893052Z",
     "shell.execute_reply": "2023-10-12T20:22:42.891912Z"
    },
    "papermill": {
     "duration": 0.544362,
     "end_time": "2023-10-12T20:22:42.896498",
     "exception": false,
     "start_time": "2023-10-12T20:22:42.352136",
     "status": "completed"
    },
    "tags": []
   },
   "outputs": [
    {
     "name": "stdout",
     "output_type": "stream",
     "text": [
      "+-------+\n",
      "|  Name |\n",
      "+-------+\n",
      "|Paurash|\n",
      "| Prashi|\n",
      "|  AAAAA|\n",
      "| BBBBBB|\n",
      "| CCCCCC|\n",
      "| CCCCCC|\n",
      "|  DDDDD|\n",
      "| EEEEEE|\n",
      "+-------+\n",
      "\n"
     ]
    }
   ],
   "source": [
    "# select the perticular column\n",
    "df_pyspark.select('Name ').show()"
   ]
  },
  {
   "cell_type": "code",
   "execution_count": 17,
   "id": "65fe7f39",
   "metadata": {
    "execution": {
     "iopub.execute_input": "2023-10-12T20:22:42.945535Z",
     "iopub.status.busy": "2023-10-12T20:22:42.945030Z",
     "iopub.status.idle": "2023-10-12T20:22:43.300471Z",
     "shell.execute_reply": "2023-10-12T20:22:43.299264Z"
    },
    "papermill": {
     "duration": 0.383746,
     "end_time": "2023-10-12T20:22:43.303447",
     "exception": false,
     "start_time": "2023-10-12T20:22:42.919701",
     "status": "completed"
    },
    "tags": []
   },
   "outputs": [
    {
     "name": "stdout",
     "output_type": "stream",
     "text": [
      "+-------+----+\n",
      "|  Name |age |\n",
      "+-------+----+\n",
      "|Paurash|  25|\n",
      "| Prashi|  23|\n",
      "|  AAAAA|  25|\n",
      "| BBBBBB|  25|\n",
      "| CCCCCC|  25|\n",
      "| CCCCCC|  25|\n",
      "|  DDDDD|  25|\n",
      "| EEEEEE|  25|\n",
      "+-------+----+\n",
      "\n"
     ]
    }
   ],
   "source": [
    "# select the multiple columns\n",
    "df_pyspark.select('Name ','age ').show()"
   ]
  },
  {
   "cell_type": "code",
   "execution_count": 18,
   "id": "870be310",
   "metadata": {
    "execution": {
     "iopub.execute_input": "2023-10-12T20:22:43.350663Z",
     "iopub.status.busy": "2023-10-12T20:22:43.349983Z",
     "iopub.status.idle": "2023-10-12T20:22:43.358020Z",
     "shell.execute_reply": "2023-10-12T20:22:43.356982Z"
    },
    "papermill": {
     "duration": 0.038728,
     "end_time": "2023-10-12T20:22:43.364280",
     "exception": false,
     "start_time": "2023-10-12T20:22:43.325552",
     "status": "completed"
    },
    "tags": []
   },
   "outputs": [
    {
     "data": {
      "text/plain": [
       "[('Name ', 'string'), ('age ', 'int'), ('city', 'string')]"
      ]
     },
     "execution_count": 18,
     "metadata": {},
     "output_type": "execute_result"
    }
   ],
   "source": [
    "# find the datatype\n",
    "df_pyspark.dtypes"
   ]
  },
  {
   "cell_type": "code",
   "execution_count": 19,
   "id": "aca04322",
   "metadata": {
    "execution": {
     "iopub.execute_input": "2023-10-12T20:22:43.404537Z",
     "iopub.status.busy": "2023-10-12T20:22:43.403919Z",
     "iopub.status.idle": "2023-10-12T20:22:45.350164Z",
     "shell.execute_reply": "2023-10-12T20:22:45.349066Z"
    },
    "papermill": {
     "duration": 1.975954,
     "end_time": "2023-10-12T20:22:45.353375",
     "exception": false,
     "start_time": "2023-10-12T20:22:43.377421",
     "status": "completed"
    },
    "tags": []
   },
   "outputs": [
    {
     "name": "stdout",
     "output_type": "stream",
     "text": [
      "+-------+------+------------------+----+\n",
      "|summary| Name |              age |city|\n",
      "+-------+------+------------------+----+\n",
      "|  count|     8|                 8|   8|\n",
      "|   mean|  NULL|             24.75|NULL|\n",
      "| stddev|  NULL|0.7071067811865475|NULL|\n",
      "|    min| AAAAA|                23| BLG|\n",
      "|    max|Prashi|                25| BLG|\n",
      "+-------+------+------------------+----+\n",
      "\n"
     ]
    }
   ],
   "source": [
    "# desrcibe funtions\n",
    "\n",
    "df_pyspark.describe().show()\n"
   ]
  },
  {
   "cell_type": "code",
   "execution_count": 20,
   "id": "dff30bca",
   "metadata": {
    "execution": {
     "iopub.execute_input": "2023-10-12T20:22:45.399480Z",
     "iopub.status.busy": "2023-10-12T20:22:45.398998Z",
     "iopub.status.idle": "2023-10-12T20:22:45.435875Z",
     "shell.execute_reply": "2023-10-12T20:22:45.434612Z"
    },
    "papermill": {
     "duration": 0.063058,
     "end_time": "2023-10-12T20:22:45.439364",
     "exception": false,
     "start_time": "2023-10-12T20:22:45.376306",
     "status": "completed"
    },
    "tags": []
   },
   "outputs": [],
   "source": [
    "### Adding column in dataframes   withColumn()\n",
    "df_pyspark=df_pyspark.withColumn('age after 5 year',df_pyspark['age ']+5)\n",
    " "
   ]
  },
  {
   "cell_type": "code",
   "execution_count": 21,
   "id": "b08af709",
   "metadata": {
    "execution": {
     "iopub.execute_input": "2023-10-12T20:22:45.470905Z",
     "iopub.status.busy": "2023-10-12T20:22:45.470544Z",
     "iopub.status.idle": "2023-10-12T20:22:45.657056Z",
     "shell.execute_reply": "2023-10-12T20:22:45.655183Z"
    },
    "papermill": {
     "duration": 0.204638,
     "end_time": "2023-10-12T20:22:45.659890",
     "exception": false,
     "start_time": "2023-10-12T20:22:45.455252",
     "status": "completed"
    },
    "tags": []
   },
   "outputs": [
    {
     "name": "stdout",
     "output_type": "stream",
     "text": [
      "+-------+----+----+----------------+\n",
      "|  Name |age |city|age after 5 year|\n",
      "+-------+----+----+----------------+\n",
      "|Paurash|  25| BLG|              30|\n",
      "| Prashi|  23| BLG|              28|\n",
      "|  AAAAA|  25| BLG|              30|\n",
      "| BBBBBB|  25| BLG|              30|\n",
      "| CCCCCC|  25| BLG|              30|\n",
      "| CCCCCC|  25| BLG|              30|\n",
      "|  DDDDD|  25| BLG|              30|\n",
      "| EEEEEE|  25| BLG|              30|\n",
      "+-------+----+----+----------------+\n",
      "\n"
     ]
    }
   ],
   "source": [
    "df_pyspark.show()"
   ]
  },
  {
   "cell_type": "code",
   "execution_count": 22,
   "id": "98679b94",
   "metadata": {
    "execution": {
     "iopub.execute_input": "2023-10-12T20:22:45.707166Z",
     "iopub.status.busy": "2023-10-12T20:22:45.706714Z",
     "iopub.status.idle": "2023-10-12T20:22:45.901330Z",
     "shell.execute_reply": "2023-10-12T20:22:45.900203Z"
    },
    "papermill": {
     "duration": 0.22204,
     "end_time": "2023-10-12T20:22:45.903860",
     "exception": false,
     "start_time": "2023-10-12T20:22:45.681820",
     "status": "completed"
    },
    "tags": []
   },
   "outputs": [
    {
     "name": "stdout",
     "output_type": "stream",
     "text": [
      "+-------+----+----+\n",
      "|  Name |age |city|\n",
      "+-------+----+----+\n",
      "|Paurash|  25| BLG|\n",
      "| Prashi|  23| BLG|\n",
      "|  AAAAA|  25| BLG|\n",
      "| BBBBBB|  25| BLG|\n",
      "| CCCCCC|  25| BLG|\n",
      "| CCCCCC|  25| BLG|\n",
      "|  DDDDD|  25| BLG|\n",
      "| EEEEEE|  25| BLG|\n",
      "+-------+----+----+\n",
      "\n"
     ]
    }
   ],
   "source": [
    "### drop the column \n",
    "\n",
    "df_pyspark=df_pyspark.drop('age after 5 year')\n",
    "\n",
    "df_pyspark.show()"
   ]
  },
  {
   "cell_type": "code",
   "execution_count": 23,
   "id": "2baaaaf4",
   "metadata": {
    "execution": {
     "iopub.execute_input": "2023-10-12T20:22:46.040111Z",
     "iopub.status.busy": "2023-10-12T20:22:46.039731Z",
     "iopub.status.idle": "2023-10-12T20:22:46.057840Z",
     "shell.execute_reply": "2023-10-12T20:22:46.056715Z"
    },
    "papermill": {
     "duration": 0.136496,
     "end_time": "2023-10-12T20:22:46.059951",
     "exception": false,
     "start_time": "2023-10-12T20:22:45.923455",
     "status": "completed"
    },
    "tags": []
   },
   "outputs": [
    {
     "data": {
      "text/plain": [
       "['EMPName', 'age ', 'city']"
      ]
     },
     "execution_count": 23,
     "metadata": {},
     "output_type": "execute_result"
    }
   ],
   "source": [
    "### re -Name the column\n",
    "\n",
    "df_pyspark=df_pyspark.withColumnRenamed('Name ','EMPName')\n",
    "\n",
    "type(df_pyspark)\n",
    "\n",
    "df_pyspark.columns"
   ]
  }
 ],
 "metadata": {
  "kernelspec": {
   "display_name": "Python 3",
   "language": "python",
   "name": "python3"
  },
  "language_info": {
   "codemirror_mode": {
    "name": "ipython",
    "version": 3
   },
   "file_extension": ".py",
   "mimetype": "text/x-python",
   "name": "python",
   "nbconvert_exporter": "python",
   "pygments_lexer": "ipython3",
   "version": "3.10.12"
  },
  "papermill": {
   "default_parameters": {},
   "duration": 86.496229,
   "end_time": "2023-10-12T20:22:48.693576",
   "environment_variables": {},
   "exception": null,
   "input_path": "__notebook__.ipynb",
   "output_path": "__notebook__.ipynb",
   "parameters": {},
   "start_time": "2023-10-12T20:21:22.197347",
   "version": "2.4.0"
  }
 },
 "nbformat": 4,
 "nbformat_minor": 5
}
