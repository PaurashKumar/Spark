{
 "cells": [
  {
   "cell_type": "raw",
   "id": "1c0b1c07",
   "metadata": {
    "_cell_guid": "b1076dfc-b9ad-4769-8c92-a6c4dae69d19",
    "_uuid": "8f2839f25d086af736a60e9eeb907d3b93b6e0e5",
    "papermill": {
     "duration": 0.00254,
     "end_time": "2023-10-10T20:51:41.028986",
     "exception": false,
     "start_time": "2023-10-10T20:51:41.026446",
     "status": "completed"
    },
    "tags": []
   },
   "source": [
    "# This Python 3 environment comes with many helpful analytics libraries installed\n",
    "# It is defined by the kaggle/python Docker image: https://github.com/kaggle/docker-python\n",
    "# For example, here's several helpful packages to load\n",
    "\n",
    "import numpy as np # linear algebra\n",
    "import pandas as pd # data processing, CSV file I/O (e.g. pd.read_csv)\n",
    "\n",
    "# Input data files are available in the read-only \"../input/\" directory\n",
    "# For example, running this (by clicking run or pressing Shift+Enter) will list all files under the input directory\n",
    "\n",
    "import os\n",
    "for dirname, _, filenames in os.walk('/kaggle/input'):\n",
    "    for filename in filenames:\n",
    "        print(os.path.join(dirname, filename))\n",
    "\n",
    "# You can write up to 20GB to the current directory (/kaggle/working/) that gets preserved as output when you create a version using \"Save & Run All\" \n",
    "# You can also write temporary files to /kaggle/temp/, but they won't be saved outside of the current session"
   ]
  },
  {
   "cell_type": "code",
   "execution_count": 1,
   "id": "d2ab7495",
   "metadata": {
    "execution": {
     "iopub.execute_input": "2023-10-10T20:51:41.035452Z",
     "iopub.status.busy": "2023-10-10T20:51:41.034566Z",
     "iopub.status.idle": "2023-10-10T20:52:27.870305Z",
     "shell.execute_reply": "2023-10-10T20:52:27.869323Z"
    },
    "papermill": {
     "duration": 46.841872,
     "end_time": "2023-10-10T20:52:27.872928",
     "exception": false,
     "start_time": "2023-10-10T20:51:41.031056",
     "status": "completed"
    },
    "tags": []
   },
   "outputs": [
    {
     "name": "stdout",
     "output_type": "stream",
     "text": [
      "Collecting pyspark\r\n",
      "  Downloading pyspark-3.5.0.tar.gz (316.9 MB)\r\n",
      "\u001b[2K     \u001b[90m━━━━━━━━━━━━━━━━━━━━━━━━━━━━━━━━━━━━━━━\u001b[0m \u001b[32m316.9/316.9 MB\u001b[0m \u001b[31m3.1 MB/s\u001b[0m eta \u001b[36m0:00:00\u001b[0m\r\n",
      "\u001b[?25h  Preparing metadata (setup.py) ... \u001b[?25l-\b \bdone\r\n",
      "\u001b[?25hRequirement already satisfied: py4j==0.10.9.7 in /opt/conda/lib/python3.10/site-packages (from pyspark) (0.10.9.7)\r\n",
      "Building wheels for collected packages: pyspark\r\n",
      "  Building wheel for pyspark (setup.py) ... \u001b[?25l-\b \b\\\b \b|\b \bdone\r\n",
      "\u001b[?25h  Created wheel for pyspark: filename=pyspark-3.5.0-py2.py3-none-any.whl size=317425350 sha256=5100c1e15369862364dce60f7b5f058a7ca442ec22e1b45bfab3cb158e8fa02c\r\n",
      "  Stored in directory: /root/.cache/pip/wheels/41/4e/10/c2cf2467f71c678cfc8a6b9ac9241e5e44a01940da8fbb17fc\r\n",
      "Successfully built pyspark\r\n",
      "Installing collected packages: pyspark\r\n",
      "Successfully installed pyspark-3.5.0\r\n"
     ]
    }
   ],
   "source": [
    "!pip install pyspark\n"
   ]
  },
  {
   "cell_type": "code",
   "execution_count": 2,
   "id": "400e7791",
   "metadata": {
    "execution": {
     "iopub.execute_input": "2023-10-10T20:52:27.890719Z",
     "iopub.status.busy": "2023-10-10T20:52:27.890328Z",
     "iopub.status.idle": "2023-10-10T20:52:27.969270Z",
     "shell.execute_reply": "2023-10-10T20:52:27.968521Z"
    },
    "papermill": {
     "duration": 0.090249,
     "end_time": "2023-10-10T20:52:27.971366",
     "exception": false,
     "start_time": "2023-10-10T20:52:27.881117",
     "status": "completed"
    },
    "tags": []
   },
   "outputs": [],
   "source": [
    "import pyspark"
   ]
  },
  {
   "cell_type": "code",
   "execution_count": 3,
   "id": "40047661",
   "metadata": {
    "execution": {
     "iopub.execute_input": "2023-10-10T20:52:27.989335Z",
     "iopub.status.busy": "2023-10-10T20:52:27.988338Z",
     "iopub.status.idle": "2023-10-10T20:52:28.410092Z",
     "shell.execute_reply": "2023-10-10T20:52:28.409016Z"
    },
    "papermill": {
     "duration": 0.432792,
     "end_time": "2023-10-10T20:52:28.412112",
     "exception": false,
     "start_time": "2023-10-10T20:52:27.979320",
     "status": "completed"
    },
    "tags": []
   },
   "outputs": [
    {
     "data": {
      "text/html": [
       "<div>\n",
       "<style scoped>\n",
       "    .dataframe tbody tr th:only-of-type {\n",
       "        vertical-align: middle;\n",
       "    }\n",
       "\n",
       "    .dataframe tbody tr th {\n",
       "        vertical-align: top;\n",
       "    }\n",
       "\n",
       "    .dataframe thead th {\n",
       "        text-align: right;\n",
       "    }\n",
       "</style>\n",
       "<table border=\"1\" class=\"dataframe\">\n",
       "  <thead>\n",
       "    <tr style=\"text-align: right;\">\n",
       "      <th></th>\n",
       "      <th>Name</th>\n",
       "      <th>age</th>\n",
       "      <th>city</th>\n",
       "    </tr>\n",
       "  </thead>\n",
       "  <tbody>\n",
       "    <tr>\n",
       "      <th>0</th>\n",
       "      <td>Paurash</td>\n",
       "      <td>25</td>\n",
       "      <td>BLG</td>\n",
       "    </tr>\n",
       "    <tr>\n",
       "      <th>1</th>\n",
       "      <td>Anushka</td>\n",
       "      <td>24</td>\n",
       "      <td>BLG</td>\n",
       "    </tr>\n",
       "    <tr>\n",
       "      <th>2</th>\n",
       "      <td>Prashi</td>\n",
       "      <td>23</td>\n",
       "      <td>BLG</td>\n",
       "    </tr>\n",
       "    <tr>\n",
       "      <th>3</th>\n",
       "      <td>sankalp</td>\n",
       "      <td>24</td>\n",
       "      <td>BLG</td>\n",
       "    </tr>\n",
       "    <tr>\n",
       "      <th>4</th>\n",
       "      <td>raj</td>\n",
       "      <td>27</td>\n",
       "      <td>BLG</td>\n",
       "    </tr>\n",
       "    <tr>\n",
       "      <th>5</th>\n",
       "      <td>angel</td>\n",
       "      <td>24</td>\n",
       "      <td>BLG</td>\n",
       "    </tr>\n",
       "  </tbody>\n",
       "</table>\n",
       "</div>"
      ],
      "text/plain": [
       "     Name   age  city\n",
       "0  Paurash    25  BLG\n",
       "1  Anushka    24  BLG\n",
       "2   Prashi    23  BLG\n",
       "3  sankalp    24  BLG\n",
       "4      raj    27  BLG\n",
       "5    angel    24  BLG"
      ]
     },
     "execution_count": 3,
     "metadata": {},
     "output_type": "execute_result"
    }
   ],
   "source": [
    "import pandas as pd\n",
    "pd.read_csv(\"/kaggle/input/testing/Test.csv\")"
   ]
  },
  {
   "cell_type": "code",
   "execution_count": 4,
   "id": "ac730c58",
   "metadata": {
    "execution": {
     "iopub.execute_input": "2023-10-10T20:52:28.430206Z",
     "iopub.status.busy": "2023-10-10T20:52:28.429837Z",
     "iopub.status.idle": "2023-10-10T20:52:33.649341Z",
     "shell.execute_reply": "2023-10-10T20:52:33.648048Z"
    },
    "papermill": {
     "duration": 5.232806,
     "end_time": "2023-10-10T20:52:33.653007",
     "exception": false,
     "start_time": "2023-10-10T20:52:28.420201",
     "status": "completed"
    },
    "tags": []
   },
   "outputs": [
    {
     "name": "stderr",
     "output_type": "stream",
     "text": [
      "Setting default log level to \"WARN\".\n",
      "To adjust logging level use sc.setLogLevel(newLevel). For SparkR, use setLogLevel(newLevel).\n",
      "23/10/10 20:52:31 WARN NativeCodeLoader: Unable to load native-hadoop library for your platform... using builtin-java classes where applicable\n"
     ]
    }
   ],
   "source": [
    "# Need to import to use date time\n",
    "from datetime import datetime, date\n",
    "\n",
    "# need to import to use pyspark\n",
    "from pyspark.sql import Row\n",
    "\n",
    "# need to import for session creation\n",
    "from pyspark.sql import SparkSession\n",
    "\n",
    "# creating the session\n",
    "spark = SparkSession.builder.appName('Practice').getOrCreate()\n",
    "\n",
    " \n",
    "\n",
    "# schema creation by passing list\n",
    "#df = spark.createDataFrame([\n",
    "#Row(a=1, b=4., c='GFG1', d=date(2000, 8, 1),\n",
    "#e=datetime(2000, 8, 1, 12, 0)),\n",
    "\n",
    "#Row(a=2, b=8., c='GFG2', d=date(2000, 6, 2),\n",
    "#e=datetime(2000, 6, 2, 12, 0)),\n",
    "\n",
    "#Row(a=4, b=5., c='GFG3', d=date(2000, 5, 3),\n",
    "#e=datetime(2000, 5, 3, 12, 0))\n",
    "#])\n",
    "\n",
    "# show table\n",
    "#df.show()\n",
    "\n",
    "# show schema\n",
    "#df.printSchema()"
   ]
  },
  {
   "cell_type": "code",
   "execution_count": 5,
   "id": "2676bc95",
   "metadata": {
    "execution": {
     "iopub.execute_input": "2023-10-10T20:52:33.671287Z",
     "iopub.status.busy": "2023-10-10T20:52:33.670879Z",
     "iopub.status.idle": "2023-10-10T20:52:41.049069Z",
     "shell.execute_reply": "2023-10-10T20:52:41.048029Z"
    },
    "papermill": {
     "duration": 7.390132,
     "end_time": "2023-10-10T20:52:41.051659",
     "exception": false,
     "start_time": "2023-10-10T20:52:33.661527",
     "status": "completed"
    },
    "tags": []
   },
   "outputs": [
    {
     "name": "stdout",
     "output_type": "stream",
     "text": [
      "+-------+----+----+\n",
      "|    _c0| _c1| _c2|\n",
      "+-------+----+----+\n",
      "|  Name |age |city|\n",
      "|Paurash|  25| BLG|\n",
      "|Anushka|  24| BLG|\n",
      "| Prashi|  23| BLG|\n",
      "|sankalp|  24| BLG|\n",
      "|    raj|  27| BLG|\n",
      "|  angel|  24| BLG|\n",
      "+-------+----+----+\n",
      "\n"
     ]
    },
    {
     "data": {
      "text/plain": [
       "[Row(Name ='Paurash', age ='25', city='BLG'),\n",
       " Row(Name ='Anushka', age ='24', city='BLG'),\n",
       " Row(Name ='Prashi', age ='23', city='BLG')]"
      ]
     },
     "execution_count": 5,
     "metadata": {},
     "output_type": "execute_result"
    }
   ],
   "source": [
    "df_pyspark=spark.read.csv(\"/kaggle/input/testing/Test.csv\")\n",
    "df_pyspark.show()\n",
    "df_pyspark=spark.read.option('header','true').csv(\"/kaggle/input/testing/Test.csv\")\n",
    "type(df_pyspark)\n",
    "df_pyspark.head(3)"
   ]
  }
 ],
 "metadata": {
  "kernelspec": {
   "display_name": "Python 3",
   "language": "python",
   "name": "python3"
  },
  "language_info": {
   "codemirror_mode": {
    "name": "ipython",
    "version": 3
   },
   "file_extension": ".py",
   "mimetype": "text/x-python",
   "name": "python",
   "nbconvert_exporter": "python",
   "pygments_lexer": "ipython3",
   "version": "3.10.12"
  },
  "papermill": {
   "default_parameters": {},
   "duration": 65.647054,
   "end_time": "2023-10-10T20:52:43.688511",
   "environment_variables": {},
   "exception": null,
   "input_path": "__notebook__.ipynb",
   "output_path": "__notebook__.ipynb",
   "parameters": {},
   "start_time": "2023-10-10T20:51:38.041457",
   "version": "2.4.0"
  }
 },
 "nbformat": 4,
 "nbformat_minor": 5
}
