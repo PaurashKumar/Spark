{
 "cells": [
  {
   "cell_type": "code",
   "execution_count": 1,
   "id": "9d76dad6",
   "metadata": {
    "execution": {
     "iopub.execute_input": "2023-11-07T11:30:22.770301Z",
     "iopub.status.busy": "2023-11-07T11:30:22.768967Z",
     "iopub.status.idle": "2023-11-07T11:31:17.888637Z",
     "shell.execute_reply": "2023-11-07T11:31:17.887060Z"
    },
    "papermill": {
     "duration": 55.137935,
     "end_time": "2023-11-07T11:31:17.892082",
     "exception": false,
     "start_time": "2023-11-07T11:30:22.754147",
     "status": "completed"
    },
    "tags": []
   },
   "outputs": [
    {
     "name": "stdout",
     "output_type": "stream",
     "text": [
      "Collecting pyspark\r\n",
      "  Downloading pyspark-3.5.0.tar.gz (316.9 MB)\r\n",
      "\u001b[2K     \u001b[90m━━━━━━━━━━━━━━━━━━━━━━━━━━━━━━━━━━━━━━━\u001b[0m \u001b[32m316.9/316.9 MB\u001b[0m \u001b[31m3.3 MB/s\u001b[0m eta \u001b[36m0:00:00\u001b[0m\r\n",
      "\u001b[?25h  Preparing metadata (setup.py) ... \u001b[?25l-\b \bdone\r\n",
      "\u001b[?25hRequirement already satisfied: py4j==0.10.9.7 in /opt/conda/lib/python3.10/site-packages (from pyspark) (0.10.9.7)\r\n",
      "Building wheels for collected packages: pyspark\r\n",
      "  Building wheel for pyspark (setup.py) ... \u001b[?25l-\b \b\\\b \b|\b \bdone\r\n",
      "\u001b[?25h  Created wheel for pyspark: filename=pyspark-3.5.0-py2.py3-none-any.whl size=317425350 sha256=cb9bb524fe3892111e01702e27ea8cff94b010694fd04e2e19f592916262feef\r\n",
      "  Stored in directory: /root/.cache/pip/wheels/41/4e/10/c2cf2467f71c678cfc8a6b9ac9241e5e44a01940da8fbb17fc\r\n",
      "Successfully built pyspark\r\n",
      "Installing collected packages: pyspark\r\n",
      "Successfully installed pyspark-3.5.0\r\n"
     ]
    }
   ],
   "source": [
    "! pip install pyspark"
   ]
  },
  {
   "cell_type": "code",
   "execution_count": 2,
   "id": "cdcdcb3e",
   "metadata": {
    "execution": {
     "iopub.execute_input": "2023-11-07T11:31:17.943857Z",
     "iopub.status.busy": "2023-11-07T11:31:17.943358Z",
     "iopub.status.idle": "2023-11-07T11:31:18.043958Z",
     "shell.execute_reply": "2023-11-07T11:31:18.042637Z"
    },
    "papermill": {
     "duration": 0.131078,
     "end_time": "2023-11-07T11:31:18.047526",
     "exception": false,
     "start_time": "2023-11-07T11:31:17.916448",
     "status": "completed"
    },
    "tags": []
   },
   "outputs": [],
   "source": [
    "import pyspark\n",
    "from pyspark import SparkContext\n"
   ]
  },
  {
   "cell_type": "code",
   "execution_count": 3,
   "id": "8aa0eb10",
   "metadata": {
    "execution": {
     "iopub.execute_input": "2023-11-07T11:31:18.099614Z",
     "iopub.status.busy": "2023-11-07T11:31:18.098958Z",
     "iopub.status.idle": "2023-11-07T11:31:24.637397Z",
     "shell.execute_reply": "2023-11-07T11:31:24.635886Z"
    },
    "papermill": {
     "duration": 6.568765,
     "end_time": "2023-11-07T11:31:24.641096",
     "exception": false,
     "start_time": "2023-11-07T11:31:18.072331",
     "status": "completed"
    },
    "tags": []
   },
   "outputs": [
    {
     "name": "stderr",
     "output_type": "stream",
     "text": [
      "Setting default log level to \"WARN\".\n",
      "To adjust logging level use sc.setLogLevel(newLevel). For SparkR, use setLogLevel(newLevel).\n",
      "23/11/07 11:31:22 WARN NativeCodeLoader: Unable to load native-hadoop library for your platform... using builtin-java classes where applicable\n"
     ]
    }
   ],
   "source": [
    "sc=pyspark.SparkContext(appName=\"RDDTransformation\")"
   ]
  },
  {
   "cell_type": "code",
   "execution_count": 4,
   "id": "2fe231f9",
   "metadata": {
    "execution": {
     "iopub.execute_input": "2023-11-07T11:31:24.695580Z",
     "iopub.status.busy": "2023-11-07T11:31:24.694297Z",
     "iopub.status.idle": "2023-11-07T11:31:26.104747Z",
     "shell.execute_reply": "2023-11-07T11:31:26.103289Z"
    },
    "papermill": {
     "duration": 1.442595,
     "end_time": "2023-11-07T11:31:26.109679",
     "exception": false,
     "start_time": "2023-11-07T11:31:24.667084",
     "status": "completed"
    },
    "tags": []
   },
   "outputs": [
    {
     "data": {
      "text/plain": [
       "[1, 2, 3, 4, 5, 6, 7, 8, 9]"
      ]
     },
     "execution_count": 4,
     "metadata": {},
     "output_type": "execute_result"
    }
   ],
   "source": [
    "num=sc.parallelize([1,2,3,4,5,6,7,8,9])\n",
    "num.collect()"
   ]
  },
  {
   "cell_type": "code",
   "execution_count": 5,
   "id": "1a1f5ca4",
   "metadata": {
    "execution": {
     "iopub.execute_input": "2023-11-07T11:31:26.196248Z",
     "iopub.status.busy": "2023-11-07T11:31:26.195803Z",
     "iopub.status.idle": "2023-11-07T11:31:28.194879Z",
     "shell.execute_reply": "2023-11-07T11:31:28.193145Z"
    },
    "papermill": {
     "duration": 2.038342,
     "end_time": "2023-11-07T11:31:28.197855",
     "exception": false,
     "start_time": "2023-11-07T11:31:26.159513",
     "status": "completed"
    },
    "tags": []
   },
   "outputs": [
    {
     "name": "stderr",
     "output_type": "stream",
     "text": [
      "                                                                                \r"
     ]
    },
    {
     "data": {
      "text/plain": [
       "[2, 4, 6, 8, 10, 12, 14, 16, 18]"
      ]
     },
     "execution_count": 5,
     "metadata": {},
     "output_type": "execute_result"
    }
   ],
   "source": [
    "num.map(lambda a:a*2).collect()"
   ]
  },
  {
   "cell_type": "code",
   "execution_count": 6,
   "id": "934c282b",
   "metadata": {
    "execution": {
     "iopub.execute_input": "2023-11-07T11:31:28.251655Z",
     "iopub.status.busy": "2023-11-07T11:31:28.250895Z",
     "iopub.status.idle": "2023-11-07T11:31:28.839959Z",
     "shell.execute_reply": "2023-11-07T11:31:28.838710Z"
    },
    "papermill": {
     "duration": 0.620124,
     "end_time": "2023-11-07T11:31:28.843812",
     "exception": false,
     "start_time": "2023-11-07T11:31:28.223688",
     "status": "completed"
    },
    "tags": []
   },
   "outputs": [
    {
     "data": {
      "text/plain": [
       "[1, 4, 9, 16, 25, 36, 49, 64, 81]"
      ]
     },
     "execution_count": 6,
     "metadata": {},
     "output_type": "execute_result"
    }
   ],
   "source": [
    "s=0\n",
    "num.map(lambda a: pow(a,2)).collect()"
   ]
  },
  {
   "cell_type": "code",
   "execution_count": 7,
   "id": "7bfbef10",
   "metadata": {
    "execution": {
     "iopub.execute_input": "2023-11-07T11:31:28.903577Z",
     "iopub.status.busy": "2023-11-07T11:31:28.903132Z",
     "iopub.status.idle": "2023-11-07T11:31:29.500036Z",
     "shell.execute_reply": "2023-11-07T11:31:29.498838Z"
    },
    "papermill": {
     "duration": 0.627678,
     "end_time": "2023-11-07T11:31:29.504090",
     "exception": false,
     "start_time": "2023-11-07T11:31:28.876412",
     "status": "completed"
    },
    "tags": []
   },
   "outputs": [
    {
     "data": {
      "text/plain": [
       "['Mr.Bills', 'Mr.Mark', 'Mr.Brain', 'Mr.Mick']"
      ]
     },
     "execution_count": 7,
     "metadata": {},
     "output_type": "execute_result"
    }
   ],
   "source": [
    "names = sc.parallelize([ \"Bills\", \"Mark\",\"Brain\",\"Mick\"])\n",
    "\n",
    "names.map(lambda a:\"Mr.\"+a).collect()"
   ]
  },
  {
   "cell_type": "code",
   "execution_count": 8,
   "id": "da681fe4",
   "metadata": {
    "execution": {
     "iopub.execute_input": "2023-11-07T11:31:29.563495Z",
     "iopub.status.busy": "2023-11-07T11:31:29.562772Z",
     "iopub.status.idle": "2023-11-07T11:31:29.572991Z",
     "shell.execute_reply": "2023-11-07T11:31:29.571572Z"
    },
    "papermill": {
     "duration": 0.040468,
     "end_time": "2023-11-07T11:31:29.576029",
     "exception": false,
     "start_time": "2023-11-07T11:31:29.535561",
     "status": "completed"
    },
    "tags": []
   },
   "outputs": [],
   "source": [
    "rdd=sc.parallelize([1,2,3,4,5])"
   ]
  },
  {
   "cell_type": "code",
   "execution_count": 9,
   "id": "fd4ff4f3",
   "metadata": {
    "execution": {
     "iopub.execute_input": "2023-11-07T11:31:29.628229Z",
     "iopub.status.busy": "2023-11-07T11:31:29.626644Z",
     "iopub.status.idle": "2023-11-07T11:31:29.633545Z",
     "shell.execute_reply": "2023-11-07T11:31:29.632606Z"
    },
    "papermill": {
     "duration": 0.035268,
     "end_time": "2023-11-07T11:31:29.635796",
     "exception": false,
     "start_time": "2023-11-07T11:31:29.600528",
     "status": "completed"
    },
    "tags": []
   },
   "outputs": [
    {
     "name": "stdout",
     "output_type": "stream",
     "text": [
      "1\n",
      "2\n"
     ]
    }
   ],
   "source": [
    "a=range(1,3)\n",
    "for i in a:\n",
    "    print(i)"
   ]
  },
  {
   "cell_type": "code",
   "execution_count": 10,
   "id": "9b7bc640",
   "metadata": {
    "execution": {
     "iopub.execute_input": "2023-11-07T11:31:29.689004Z",
     "iopub.status.busy": "2023-11-07T11:31:29.688129Z",
     "iopub.status.idle": "2023-11-07T11:31:30.245120Z",
     "shell.execute_reply": "2023-11-07T11:31:30.243823Z"
    },
    "papermill": {
     "duration": 0.587058,
     "end_time": "2023-11-07T11:31:30.248526",
     "exception": false,
     "start_time": "2023-11-07T11:31:29.661468",
     "status": "completed"
    },
    "tags": []
   },
   "outputs": [
    {
     "data": {
      "text/plain": [
       "[1, 1, 2, 1, 2, 3, 1, 2, 3, 4]"
      ]
     },
     "execution_count": 10,
     "metadata": {},
     "output_type": "execute_result"
    }
   ],
   "source": [
    "rdd.flatMap(lambda x:range(1,x)).collect()"
   ]
  },
  {
   "cell_type": "code",
   "execution_count": 11,
   "id": "fd67f3ac",
   "metadata": {
    "execution": {
     "iopub.execute_input": "2023-11-07T11:31:30.322945Z",
     "iopub.status.busy": "2023-11-07T11:31:30.322371Z",
     "iopub.status.idle": "2023-11-07T11:31:30.943045Z",
     "shell.execute_reply": "2023-11-07T11:31:30.941938Z"
    },
    "papermill": {
     "duration": 0.660773,
     "end_time": "2023-11-07T11:31:30.945706",
     "exception": false,
     "start_time": "2023-11-07T11:31:30.284933",
     "status": "completed"
    },
    "tags": []
   },
   "outputs": [
    {
     "data": {
      "text/plain": [
       "[1, 10, 111, 2, 20, 111, 3, 30, 111, 4, 40, 111, 5, 50, 111]"
      ]
     },
     "execution_count": 11,
     "metadata": {},
     "output_type": "execute_result"
    }
   ],
   "source": [
    "rdd.flatMap(lambda i:(i,i*10,111)).collect()"
   ]
  },
  {
   "cell_type": "markdown",
   "id": "6c6ce846",
   "metadata": {
    "papermill": {
     "duration": 0.126301,
     "end_time": "2023-11-07T11:31:31.098194",
     "exception": false,
     "start_time": "2023-11-07T11:31:30.971893",
     "status": "completed"
    },
    "tags": []
   },
   "source": [
    "## Filter operation"
   ]
  },
  {
   "cell_type": "code",
   "execution_count": 12,
   "id": "c04600d2",
   "metadata": {
    "execution": {
     "iopub.execute_input": "2023-11-07T11:31:31.153439Z",
     "iopub.status.busy": "2023-11-07T11:31:31.152754Z",
     "iopub.status.idle": "2023-11-07T11:31:31.251742Z",
     "shell.execute_reply": "2023-11-07T11:31:31.250313Z"
    },
    "papermill": {
     "duration": 0.130333,
     "end_time": "2023-11-07T11:31:31.255282",
     "exception": false,
     "start_time": "2023-11-07T11:31:31.124949",
     "status": "completed"
    },
    "tags": []
   },
   "outputs": [
    {
     "data": {
      "text/plain": [
       "[5, 5, 4, 3, 2, 9, 2]"
      ]
     },
     "execution_count": 12,
     "metadata": {},
     "output_type": "execute_result"
    }
   ],
   "source": [
    "num=sc.parallelize([5, 5, 4, 3, 2, 9, 2])\n",
    "num.collect()"
   ]
  },
  {
   "cell_type": "code",
   "execution_count": 13,
   "id": "03111b8b",
   "metadata": {
    "execution": {
     "iopub.execute_input": "2023-11-07T11:31:31.327002Z",
     "iopub.status.busy": "2023-11-07T11:31:31.325944Z",
     "iopub.status.idle": "2023-11-07T11:31:31.868850Z",
     "shell.execute_reply": "2023-11-07T11:31:31.867617Z"
    },
    "papermill": {
     "duration": 0.578045,
     "end_time": "2023-11-07T11:31:31.872014",
     "exception": false,
     "start_time": "2023-11-07T11:31:31.293969",
     "status": "completed"
    },
    "tags": []
   },
   "outputs": [
    {
     "data": {
      "text/plain": [
       "[4, 2, 2]"
      ]
     },
     "execution_count": 13,
     "metadata": {},
     "output_type": "execute_result"
    }
   ],
   "source": [
    "num.filter(lambda a:a%2==0).collect()"
   ]
  },
  {
   "cell_type": "code",
   "execution_count": 14,
   "id": "6eba8187",
   "metadata": {
    "execution": {
     "iopub.execute_input": "2023-11-07T11:31:31.930563Z",
     "iopub.status.busy": "2023-11-07T11:31:31.929929Z",
     "iopub.status.idle": "2023-11-07T11:31:32.527825Z",
     "shell.execute_reply": "2023-11-07T11:31:32.526661Z"
    },
    "papermill": {
     "duration": 0.63207,
     "end_time": "2023-11-07T11:31:32.533595",
     "exception": false,
     "start_time": "2023-11-07T11:31:31.901525",
     "status": "completed"
    },
    "tags": []
   },
   "outputs": [
    {
     "data": {
      "text/plain": [
       "[5, 5, 3, 9]"
      ]
     },
     "execution_count": 14,
     "metadata": {},
     "output_type": "execute_result"
    }
   ],
   "source": [
    "num.filter(lambda a:a%2!=0).collect()"
   ]
  },
  {
   "cell_type": "code",
   "execution_count": 15,
   "id": "db51129a",
   "metadata": {
    "execution": {
     "iopub.execute_input": "2023-11-07T11:31:32.611124Z",
     "iopub.status.busy": "2023-11-07T11:31:32.610340Z",
     "iopub.status.idle": "2023-11-07T11:31:32.698657Z",
     "shell.execute_reply": "2023-11-07T11:31:32.697458Z"
    },
    "papermill": {
     "duration": 0.129687,
     "end_time": "2023-11-07T11:31:32.701629",
     "exception": false,
     "start_time": "2023-11-07T11:31:32.571942",
     "status": "completed"
    },
    "tags": []
   },
   "outputs": [
    {
     "data": {
      "text/plain": [
       "['Bills', 'Mark', 'Brain', 'Mick']"
      ]
     },
     "execution_count": 15,
     "metadata": {},
     "output_type": "execute_result"
    }
   ],
   "source": [
    "names.collect()"
   ]
  },
  {
   "cell_type": "code",
   "execution_count": 16,
   "id": "0c398cf3",
   "metadata": {
    "execution": {
     "iopub.execute_input": "2023-11-07T11:31:32.779567Z",
     "iopub.status.busy": "2023-11-07T11:31:32.778498Z",
     "iopub.status.idle": "2023-11-07T11:31:33.369235Z",
     "shell.execute_reply": "2023-11-07T11:31:33.368035Z"
    },
    "papermill": {
     "duration": 0.635563,
     "end_time": "2023-11-07T11:31:33.373836",
     "exception": false,
     "start_time": "2023-11-07T11:31:32.738273",
     "status": "completed"
    },
    "tags": []
   },
   "outputs": [
    {
     "name": "stderr",
     "output_type": "stream",
     "text": [
      "                                                                                \r"
     ]
    },
    {
     "data": {
      "text/plain": [
       "['Bills', 'Brain']"
      ]
     },
     "execution_count": 16,
     "metadata": {},
     "output_type": "execute_result"
    }
   ],
   "source": [
    "names.filter(lambda n:'B' in n).collect()"
   ]
  },
  {
   "cell_type": "code",
   "execution_count": 17,
   "id": "072425a6",
   "metadata": {
    "execution": {
     "iopub.execute_input": "2023-11-07T11:31:33.446098Z",
     "iopub.status.busy": "2023-11-07T11:31:33.445695Z",
     "iopub.status.idle": "2023-11-07T11:31:34.008820Z",
     "shell.execute_reply": "2023-11-07T11:31:34.007584Z"
    },
    "papermill": {
     "duration": 0.599945,
     "end_time": "2023-11-07T11:31:34.013203",
     "exception": false,
     "start_time": "2023-11-07T11:31:33.413258",
     "status": "completed"
    },
    "tags": []
   },
   "outputs": [
    {
     "data": {
      "text/plain": [
       "['Mark', 'Mick']"
      ]
     },
     "execution_count": 17,
     "metadata": {},
     "output_type": "execute_result"
    }
   ],
   "source": [
    "names.filter(lambda n: 'M' in n).collect()\n",
    " "
   ]
  },
  {
   "cell_type": "markdown",
   "id": "6a3d0694",
   "metadata": {
    "papermill": {
     "duration": 0.038722,
     "end_time": "2023-11-07T11:31:34.101879",
     "exception": false,
     "start_time": "2023-11-07T11:31:34.063157",
     "status": "completed"
    },
    "tags": []
   },
   "source": [
    "## Union Operation"
   ]
  },
  {
   "cell_type": "code",
   "execution_count": 18,
   "id": "de17f5d4",
   "metadata": {
    "execution": {
     "iopub.execute_input": "2023-11-07T11:31:34.183548Z",
     "iopub.status.busy": "2023-11-07T11:31:34.182775Z",
     "iopub.status.idle": "2023-11-07T11:31:34.261681Z",
     "shell.execute_reply": "2023-11-07T11:31:34.260705Z"
    },
    "papermill": {
     "duration": 0.124762,
     "end_time": "2023-11-07T11:31:34.265301",
     "exception": false,
     "start_time": "2023-11-07T11:31:34.140539",
     "status": "completed"
    },
    "tags": []
   },
   "outputs": [
    {
     "data": {
      "text/plain": [
       "[5, 5, 4, 3, 2, 9, 2]"
      ]
     },
     "execution_count": 18,
     "metadata": {},
     "output_type": "execute_result"
    }
   ],
   "source": [
    "num2 = sc.parallelize([1,2,3])\n",
    "num3= sc.parallelize([2,3,5])\n",
    "num.collect()\n",
    "#num2.collect()"
   ]
  },
  {
   "cell_type": "code",
   "execution_count": 19,
   "id": "58d7a424",
   "metadata": {
    "execution": {
     "iopub.execute_input": "2023-11-07T11:31:34.348980Z",
     "iopub.status.busy": "2023-11-07T11:31:34.348192Z",
     "iopub.status.idle": "2023-11-07T11:31:34.413596Z",
     "shell.execute_reply": "2023-11-07T11:31:34.412659Z"
    },
    "papermill": {
     "duration": 0.112104,
     "end_time": "2023-11-07T11:31:34.417308",
     "exception": false,
     "start_time": "2023-11-07T11:31:34.305204",
     "status": "completed"
    },
    "tags": []
   },
   "outputs": [
    {
     "data": {
      "text/plain": [
       "[2, 3, 5]"
      ]
     },
     "execution_count": 19,
     "metadata": {},
     "output_type": "execute_result"
    }
   ],
   "source": [
    "num3.collect()"
   ]
  },
  {
   "cell_type": "code",
   "execution_count": 20,
   "id": "0d29e05c",
   "metadata": {
    "execution": {
     "iopub.execute_input": "2023-11-07T11:31:34.500315Z",
     "iopub.status.busy": "2023-11-07T11:31:34.499386Z",
     "iopub.status.idle": "2023-11-07T11:31:34.573448Z",
     "shell.execute_reply": "2023-11-07T11:31:34.572267Z"
    },
    "papermill": {
     "duration": 0.118348,
     "end_time": "2023-11-07T11:31:34.576381",
     "exception": false,
     "start_time": "2023-11-07T11:31:34.458033",
     "status": "completed"
    },
    "tags": []
   },
   "outputs": [
    {
     "data": {
      "text/plain": [
       "[1, 2, 3]"
      ]
     },
     "execution_count": 20,
     "metadata": {},
     "output_type": "execute_result"
    }
   ],
   "source": [
    "num2.collect()"
   ]
  },
  {
   "cell_type": "code",
   "execution_count": 21,
   "id": "ddf8ad15",
   "metadata": {
    "execution": {
     "iopub.execute_input": "2023-11-07T11:31:34.633324Z",
     "iopub.status.busy": "2023-11-07T11:31:34.632784Z",
     "iopub.status.idle": "2023-11-07T11:31:34.811907Z",
     "shell.execute_reply": "2023-11-07T11:31:34.810758Z"
    },
    "papermill": {
     "duration": 0.211013,
     "end_time": "2023-11-07T11:31:34.815262",
     "exception": false,
     "start_time": "2023-11-07T11:31:34.604249",
     "status": "completed"
    },
    "tags": []
   },
   "outputs": [
    {
     "data": {
      "text/plain": [
       "[1, 2, 3, 2, 3, 5]"
      ]
     },
     "execution_count": 21,
     "metadata": {},
     "output_type": "execute_result"
    }
   ],
   "source": [
    "num2.union(num3).collect()"
   ]
  },
  {
   "cell_type": "markdown",
   "id": "0ab9dd1a",
   "metadata": {
    "papermill": {
     "duration": 0.041762,
     "end_time": "2023-11-07T11:31:34.896788",
     "exception": false,
     "start_time": "2023-11-07T11:31:34.855026",
     "status": "completed"
    },
    "tags": []
   },
   "source": [
    "# sample: Return a random sample subset RDD of the input RDD\n",
    "# API: (withReplacement: Boolean, fraction: Double, seed: Long = Utils.random.nextLong): RDD[T]\n",
    "# Note This is not guaranteed to provide exactly the fraction specified of the total count of the given"
   ]
  },
  {
   "cell_type": "code",
   "execution_count": 22,
   "id": "19d83b31",
   "metadata": {
    "execution": {
     "iopub.execute_input": "2023-11-07T11:31:34.975867Z",
     "iopub.status.busy": "2023-11-07T11:31:34.975330Z",
     "iopub.status.idle": "2023-11-07T11:31:35.552390Z",
     "shell.execute_reply": "2023-11-07T11:31:35.551226Z"
    },
    "papermill": {
     "duration": 0.619135,
     "end_time": "2023-11-07T11:31:35.556583",
     "exception": false,
     "start_time": "2023-11-07T11:31:34.937448",
     "status": "completed"
    },
    "tags": []
   },
   "outputs": [
    {
     "name": "stderr",
     "output_type": "stream",
     "text": [
      "                                                                                \r"
     ]
    },
    {
     "data": {
      "text/plain": [
       "[1, 2, 3, 4, 5, 6, 7, 8, 9, 10]"
      ]
     },
     "execution_count": 22,
     "metadata": {},
     "output_type": "execute_result"
    }
   ],
   "source": [
    "paraller=sc.parallelize(range(1,11))\n",
    "paraller.collect()"
   ]
  },
  {
   "cell_type": "code",
   "execution_count": 23,
   "id": "b7aa0263",
   "metadata": {
    "execution": {
     "iopub.execute_input": "2023-11-07T11:31:35.631543Z",
     "iopub.status.busy": "2023-11-07T11:31:35.631020Z",
     "iopub.status.idle": "2023-11-07T11:31:36.164479Z",
     "shell.execute_reply": "2023-11-07T11:31:36.163308Z"
    },
    "papermill": {
     "duration": 0.569369,
     "end_time": "2023-11-07T11:31:36.168291",
     "exception": false,
     "start_time": "2023-11-07T11:31:35.598922",
     "status": "completed"
    },
    "tags": []
   },
   "outputs": [
    {
     "data": {
      "text/plain": [
       "[]"
      ]
     },
     "execution_count": 23,
     "metadata": {},
     "output_type": "execute_result"
    }
   ],
   "source": [
    "paraller.sample(True,.2).collect()"
   ]
  },
  {
   "cell_type": "code",
   "execution_count": 24,
   "id": "6916de3d",
   "metadata": {
    "execution": {
     "iopub.execute_input": "2023-11-07T11:31:36.233258Z",
     "iopub.status.busy": "2023-11-07T11:31:36.232875Z",
     "iopub.status.idle": "2023-11-07T11:31:36.675519Z",
     "shell.execute_reply": "2023-11-07T11:31:36.674046Z"
    },
    "papermill": {
     "duration": 0.47579,
     "end_time": "2023-11-07T11:31:36.679090",
     "exception": false,
     "start_time": "2023-11-07T11:31:36.203300",
     "status": "completed"
    },
    "tags": []
   },
   "outputs": [
    {
     "data": {
      "text/plain": [
       "[2, 4, 5]"
      ]
     },
     "execution_count": 24,
     "metadata": {},
     "output_type": "execute_result"
    }
   ],
   "source": [
    "paraller.sample(True,.2,seed=19).collect()"
   ]
  },
  {
   "cell_type": "markdown",
   "id": "bb532928",
   "metadata": {
    "papermill": {
     "duration": 0.028082,
     "end_time": "2023-11-07T11:31:36.748073",
     "exception": false,
     "start_time": "2023-11-07T11:31:36.719991",
     "status": "completed"
    },
    "tags": []
   },
   "source": [
    "# Group By"
   ]
  },
  {
   "cell_type": "code",
   "execution_count": 25,
   "id": "498cd3f0",
   "metadata": {
    "execution": {
     "iopub.execute_input": "2023-11-07T11:31:36.807834Z",
     "iopub.status.busy": "2023-11-07T11:31:36.807330Z",
     "iopub.status.idle": "2023-11-07T11:31:36.872527Z",
     "shell.execute_reply": "2023-11-07T11:31:36.871467Z"
    },
    "papermill": {
     "duration": 0.098864,
     "end_time": "2023-11-07T11:31:36.875961",
     "exception": false,
     "start_time": "2023-11-07T11:31:36.777097",
     "status": "completed"
    },
    "tags": []
   },
   "outputs": [
    {
     "data": {
      "text/plain": [
       "['Bills', 'Mark', 'Brain', 'Mick']"
      ]
     },
     "execution_count": 25,
     "metadata": {},
     "output_type": "execute_result"
    }
   ],
   "source": [
    "names.collect()"
   ]
  },
  {
   "cell_type": "code",
   "execution_count": 26,
   "id": "b36ff475",
   "metadata": {
    "execution": {
     "iopub.execute_input": "2023-11-07T11:31:36.935600Z",
     "iopub.status.busy": "2023-11-07T11:31:36.934821Z",
     "iopub.status.idle": "2023-11-07T11:31:38.797364Z",
     "shell.execute_reply": "2023-11-07T11:31:38.796209Z"
    },
    "papermill": {
     "duration": 1.895902,
     "end_time": "2023-11-07T11:31:38.800955",
     "exception": false,
     "start_time": "2023-11-07T11:31:36.905053",
     "status": "completed"
    },
    "tags": []
   },
   "outputs": [
    {
     "name": "stderr",
     "output_type": "stream",
     "text": [
      "                                                                                \r"
     ]
    }
   ],
   "source": [
    "name_gp=names.groupBy(lambda s:s[0]).collect()\n"
   ]
  },
  {
   "cell_type": "code",
   "execution_count": 27,
   "id": "c9411a1d",
   "metadata": {
    "execution": {
     "iopub.execute_input": "2023-11-07T11:31:38.890228Z",
     "iopub.status.busy": "2023-11-07T11:31:38.889740Z",
     "iopub.status.idle": "2023-11-07T11:31:38.896632Z",
     "shell.execute_reply": "2023-11-07T11:31:38.895485Z"
    },
    "papermill": {
     "duration": 0.053743,
     "end_time": "2023-11-07T11:31:38.899975",
     "exception": false,
     "start_time": "2023-11-07T11:31:38.846232",
     "status": "completed"
    },
    "tags": []
   },
   "outputs": [
    {
     "name": "stdout",
     "output_type": "stream",
     "text": [
      "B ['Bills', 'Brain']\n",
      "M ['Mark', 'Mick']\n"
     ]
    }
   ],
   "source": [
    "for (k,v) in name_gp:\n",
    "    print(k,list(v))"
   ]
  },
  {
   "cell_type": "code",
   "execution_count": 28,
   "id": "ca1a8714",
   "metadata": {
    "execution": {
     "iopub.execute_input": "2023-11-07T11:31:38.982272Z",
     "iopub.status.busy": "2023-11-07T11:31:38.981796Z",
     "iopub.status.idle": "2023-11-07T11:31:38.994332Z",
     "shell.execute_reply": "2023-11-07T11:31:38.993429Z"
    },
    "papermill": {
     "duration": 0.056938,
     "end_time": "2023-11-07T11:31:38.996923",
     "exception": false,
     "start_time": "2023-11-07T11:31:38.939985",
     "status": "completed"
    },
    "tags": []
   },
   "outputs": [],
   "source": [
    "aa = sc.parallelize([1, 1, 2, 3, 5, 8])\n",
    "\n"
   ]
  },
  {
   "cell_type": "code",
   "execution_count": 29,
   "id": "06c8f293",
   "metadata": {
    "execution": {
     "iopub.execute_input": "2023-11-07T11:31:39.058284Z",
     "iopub.status.busy": "2023-11-07T11:31:39.057610Z",
     "iopub.status.idle": "2023-11-07T11:31:40.249771Z",
     "shell.execute_reply": "2023-11-07T11:31:40.248620Z"
    },
    "papermill": {
     "duration": 1.227519,
     "end_time": "2023-11-07T11:31:40.253181",
     "exception": false,
     "start_time": "2023-11-07T11:31:39.025662",
     "status": "completed"
    },
    "tags": []
   },
   "outputs": [
    {
     "data": {
      "text/plain": [
       "[(0, <pyspark.resultiterable.ResultIterable at 0x7f26a2bbeef0>),\n",
       " (1, <pyspark.resultiterable.ResultIterable at 0x7f26a29b0580>)]"
      ]
     },
     "execution_count": 29,
     "metadata": {},
     "output_type": "execute_result"
    }
   ],
   "source": [
    "result=aa.groupBy(lambda a:a%2).collect()\n",
    "result"
   ]
  },
  {
   "cell_type": "code",
   "execution_count": 30,
   "id": "57c1abec",
   "metadata": {
    "execution": {
     "iopub.execute_input": "2023-11-07T11:31:40.322603Z",
     "iopub.status.busy": "2023-11-07T11:31:40.322162Z",
     "iopub.status.idle": "2023-11-07T11:31:40.328481Z",
     "shell.execute_reply": "2023-11-07T11:31:40.326807Z"
    },
    "papermill": {
     "duration": 0.040778,
     "end_time": "2023-11-07T11:31:40.332368",
     "exception": false,
     "start_time": "2023-11-07T11:31:40.291590",
     "status": "completed"
    },
    "tags": []
   },
   "outputs": [
    {
     "name": "stdout",
     "output_type": "stream",
     "text": [
      "0 [2, 8]\n",
      "1 [1, 1, 3, 5]\n"
     ]
    }
   ],
   "source": [
    "for (k,v) in result:\n",
    "    print(k,list(v))"
   ]
  },
  {
   "cell_type": "markdown",
   "id": "20714c4c",
   "metadata": {
    "papermill": {
     "duration": 0.029604,
     "end_time": "2023-11-07T11:31:40.390209",
     "exception": false,
     "start_time": "2023-11-07T11:31:40.360605",
     "status": "completed"
    },
    "tags": []
   },
   "source": [
    "## Intersaction"
   ]
  },
  {
   "cell_type": "code",
   "execution_count": 31,
   "id": "391073d9",
   "metadata": {
    "execution": {
     "iopub.execute_input": "2023-11-07T11:31:40.450199Z",
     "iopub.status.busy": "2023-11-07T11:31:40.449581Z",
     "iopub.status.idle": "2023-11-07T11:31:43.443698Z",
     "shell.execute_reply": "2023-11-07T11:31:43.442797Z"
    },
    "papermill": {
     "duration": 3.029566,
     "end_time": "2023-11-07T11:31:43.448708",
     "exception": false,
     "start_time": "2023-11-07T11:31:40.419142",
     "status": "completed"
    },
    "tags": []
   },
   "outputs": [
    {
     "name": "stderr",
     "output_type": "stream",
     "text": [
      "                                                                                \r"
     ]
    },
    {
     "data": {
      "text/plain": [
       "[2, 3]"
      ]
     },
     "execution_count": 31,
     "metadata": {},
     "output_type": "execute_result"
    }
   ],
   "source": [
    "num2.intersection(num3).collect()"
   ]
  },
  {
   "cell_type": "markdown",
   "id": "a61e9323",
   "metadata": {
    "papermill": {
     "duration": 0.028622,
     "end_time": "2023-11-07T11:31:43.515536",
     "exception": false,
     "start_time": "2023-11-07T11:31:43.486914",
     "status": "completed"
    },
    "tags": []
   },
   "source": [
    "## subtract"
   ]
  },
  {
   "cell_type": "code",
   "execution_count": 32,
   "id": "3c8a7c9a",
   "metadata": {
    "execution": {
     "iopub.execute_input": "2023-11-07T11:31:43.577326Z",
     "iopub.status.busy": "2023-11-07T11:31:43.576762Z",
     "iopub.status.idle": "2023-11-07T11:31:47.282929Z",
     "shell.execute_reply": "2023-11-07T11:31:47.281450Z"
    },
    "papermill": {
     "duration": 3.74104,
     "end_time": "2023-11-07T11:31:47.286827",
     "exception": false,
     "start_time": "2023-11-07T11:31:43.545787",
     "status": "completed"
    },
    "tags": []
   },
   "outputs": [
    {
     "name": "stderr",
     "output_type": "stream",
     "text": [
      "                                                                                \r"
     ]
    },
    {
     "data": {
      "text/plain": [
       "[1]"
      ]
     },
     "execution_count": 32,
     "metadata": {},
     "output_type": "execute_result"
    }
   ],
   "source": [
    "num2.subtract(num3).collect()"
   ]
  },
  {
   "cell_type": "code",
   "execution_count": 33,
   "id": "e6c7fc26",
   "metadata": {
    "execution": {
     "iopub.execute_input": "2023-11-07T11:31:47.368052Z",
     "iopub.status.busy": "2023-11-07T11:31:47.367060Z",
     "iopub.status.idle": "2023-11-07T11:31:47.428949Z",
     "shell.execute_reply": "2023-11-07T11:31:47.427606Z"
    },
    "papermill": {
     "duration": 0.099575,
     "end_time": "2023-11-07T11:31:47.432475",
     "exception": false,
     "start_time": "2023-11-07T11:31:47.332900",
     "status": "completed"
    },
    "tags": []
   },
   "outputs": [
    {
     "data": {
      "text/plain": [
       "[5, 5, 4, 3, 2, 9, 2]"
      ]
     },
     "execution_count": 33,
     "metadata": {},
     "output_type": "execute_result"
    }
   ],
   "source": [
    "num.collect()"
   ]
  },
  {
   "cell_type": "code",
   "execution_count": 34,
   "id": "bf193a06",
   "metadata": {
    "execution": {
     "iopub.execute_input": "2023-11-07T11:31:47.510203Z",
     "iopub.status.busy": "2023-11-07T11:31:47.509584Z",
     "iopub.status.idle": "2023-11-07T11:31:48.873464Z",
     "shell.execute_reply": "2023-11-07T11:31:48.872174Z"
    },
    "papermill": {
     "duration": 1.410549,
     "end_time": "2023-11-07T11:31:48.877598",
     "exception": false,
     "start_time": "2023-11-07T11:31:47.467049",
     "status": "completed"
    },
    "tags": []
   },
   "outputs": [
    {
     "name": "stderr",
     "output_type": "stream",
     "text": [
      "                                                                                \r"
     ]
    },
    {
     "data": {
      "text/plain": [
       "[4, 5, 9, 2, 3]"
      ]
     },
     "execution_count": 34,
     "metadata": {},
     "output_type": "execute_result"
    }
   ],
   "source": [
    "num.distinct().collect()"
   ]
  },
  {
   "cell_type": "markdown",
   "id": "bc81d814",
   "metadata": {
    "_cell_guid": "b1076dfc-b9ad-4769-8c92-a6c4dae69d19",
    "_uuid": "8f2839f25d086af736a60e9eeb907d3b93b6e0e5",
    "papermill": {
     "duration": 0.033916,
     "end_time": "2023-11-07T11:31:48.953604",
     "exception": false,
     "start_time": "2023-11-07T11:31:48.919688",
     "status": "completed"
    },
    "tags": []
   },
   "source": [
    " \n",
    " "
   ]
  }
 ],
 "metadata": {
  "kernelspec": {
   "display_name": "Python 3",
   "language": "python",
   "name": "python3"
  },
  "language_info": {
   "codemirror_mode": {
    "name": "ipython",
    "version": 3
   },
   "file_extension": ".py",
   "mimetype": "text/x-python",
   "name": "python",
   "nbconvert_exporter": "python",
   "pygments_lexer": "ipython3",
   "version": "3.10.12"
  },
  "papermill": {
   "default_parameters": {},
   "duration": 92.660189,
   "end_time": "2023-11-07T11:31:51.608742",
   "environment_variables": {},
   "exception": null,
   "input_path": "__notebook__.ipynb",
   "output_path": "__notebook__.ipynb",
   "parameters": {},
   "start_time": "2023-11-07T11:30:18.948553",
   "version": "2.4.0"
  }
 },
 "nbformat": 4,
 "nbformat_minor": 5
}
