{
 "cells": [
  {
   "cell_type": "code",
   "execution_count": 1,
   "id": "68501829",
   "metadata": {
    "_cell_guid": "b1076dfc-b9ad-4769-8c92-a6c4dae69d19",
    "_uuid": "8f2839f25d086af736a60e9eeb907d3b93b6e0e5",
    "execution": {
     "iopub.execute_input": "2023-10-29T22:24:06.055294Z",
     "iopub.status.busy": "2023-10-29T22:24:06.054897Z",
     "iopub.status.idle": "2023-10-29T22:25:01.183321Z",
     "shell.execute_reply": "2023-10-29T22:25:01.182055Z"
    },
    "papermill": {
     "duration": 55.153243,
     "end_time": "2023-10-29T22:25:01.186244",
     "exception": false,
     "start_time": "2023-10-29T22:24:06.033001",
     "status": "completed"
    },
    "tags": []
   },
   "outputs": [
    {
     "name": "stdout",
     "output_type": "stream",
     "text": [
      "Collecting pyspark\r\n",
      "  Downloading pyspark-3.5.0.tar.gz (316.9 MB)\r\n",
      "\u001b[2K     \u001b[90m━━━━━━━━━━━━━━━━━━━━━━━━━━━━━━━━━━━━━━━\u001b[0m \u001b[32m316.9/316.9 MB\u001b[0m \u001b[31m3.5 MB/s\u001b[0m eta \u001b[36m0:00:00\u001b[0m\r\n",
      "\u001b[?25h  Preparing metadata (setup.py) ... \u001b[?25l-\b \bdone\r\n",
      "\u001b[?25hRequirement already satisfied: py4j==0.10.9.7 in /opt/conda/lib/python3.10/site-packages (from pyspark) (0.10.9.7)\r\n",
      "Building wheels for collected packages: pyspark\r\n",
      "  Building wheel for pyspark (setup.py) ... \u001b[?25l-\b \b\\\b \b|\b \bdone\r\n",
      "\u001b[?25h  Created wheel for pyspark: filename=pyspark-3.5.0-py2.py3-none-any.whl size=317425350 sha256=46eeb679e089d9b22c9b0fb62c543c1ef0b6e3c08e79524733c58f7ee3f0c3be\r\n",
      "  Stored in directory: /root/.cache/pip/wheels/41/4e/10/c2cf2467f71c678cfc8a6b9ac9241e5e44a01940da8fbb17fc\r\n",
      "Successfully built pyspark\r\n",
      "Installing collected packages: pyspark\r\n",
      "Successfully installed pyspark-3.5.0\r\n"
     ]
    }
   ],
   "source": [
    "! pip install pyspark\n"
   ]
  },
  {
   "cell_type": "code",
   "execution_count": 2,
   "id": "85ca8cd2",
   "metadata": {
    "execution": {
     "iopub.execute_input": "2023-10-29T22:25:01.249316Z",
     "iopub.status.busy": "2023-10-29T22:25:01.248885Z",
     "iopub.status.idle": "2023-10-29T22:25:01.347272Z",
     "shell.execute_reply": "2023-10-29T22:25:01.346065Z"
    },
    "papermill": {
     "duration": 0.133906,
     "end_time": "2023-10-29T22:25:01.350459",
     "exception": false,
     "start_time": "2023-10-29T22:25:01.216553",
     "status": "completed"
    },
    "tags": []
   },
   "outputs": [],
   "source": [
    "import pyspark\n",
    "\n",
    "from pyspark import SparkContext\n"
   ]
  },
  {
   "cell_type": "markdown",
   "id": "400ec652",
   "metadata": {
    "papermill": {
     "duration": 0.029825,
     "end_time": "2023-10-29T22:25:01.410837",
     "exception": false,
     "start_time": "2023-10-29T22:25:01.381012",
     "status": "completed"
    },
    "tags": []
   },
   "source": [
    "## If we want to use RDD we need to create Spark Context "
   ]
  },
  {
   "cell_type": "markdown",
   "id": "9f4ace11",
   "metadata": {
    "papermill": {
     "duration": 0.029621,
     "end_time": "2023-10-29T22:25:01.470516",
     "exception": false,
     "start_time": "2023-10-29T22:25:01.440895",
     "status": "completed"
    },
    "tags": []
   },
   "source": [
    " Way first to create Spark Context"
   ]
  },
  {
   "cell_type": "code",
   "execution_count": 3,
   "id": "a57e6fb4",
   "metadata": {
    "execution": {
     "iopub.execute_input": "2023-10-29T22:25:01.532430Z",
     "iopub.status.busy": "2023-10-29T22:25:01.531826Z",
     "iopub.status.idle": "2023-10-29T22:25:01.536702Z",
     "shell.execute_reply": "2023-10-29T22:25:01.535635Z"
    },
    "papermill": {
     "duration": 0.038777,
     "end_time": "2023-10-29T22:25:01.539230",
     "exception": false,
     "start_time": "2023-10-29T22:25:01.500453",
     "status": "completed"
    },
    "tags": []
   },
   "outputs": [],
   "source": [
    "#conf=SparkConf().setAppName(\"RDDAction\").setMaster(\"local\")\n",
    "#sc=SparkContext(conf=conf)\n",
    "#sc.getConf.getAll()\n",
    "#sc.stop("
   ]
  },
  {
   "cell_type": "markdown",
   "id": "cbfd35a1",
   "metadata": {
    "papermill": {
     "duration": 0.02982,
     "end_time": "2023-10-29T22:25:01.599186",
     "exception": false,
     "start_time": "2023-10-29T22:25:01.569366",
     "status": "completed"
    },
    "tags": []
   },
   "source": [
    "Second way to create SparkContext()"
   ]
  },
  {
   "cell_type": "code",
   "execution_count": 4,
   "id": "d06cde35",
   "metadata": {
    "execution": {
     "iopub.execute_input": "2023-10-29T22:25:01.661111Z",
     "iopub.status.busy": "2023-10-29T22:25:01.660640Z",
     "iopub.status.idle": "2023-10-29T22:25:07.632520Z",
     "shell.execute_reply": "2023-10-29T22:25:07.631310Z"
    },
    "papermill": {
     "duration": 6.006489,
     "end_time": "2023-10-29T22:25:07.635618",
     "exception": false,
     "start_time": "2023-10-29T22:25:01.629129",
     "status": "completed"
    },
    "tags": []
   },
   "outputs": [
    {
     "name": "stderr",
     "output_type": "stream",
     "text": [
      "Setting default log level to \"WARN\".\n",
      "To adjust logging level use sc.setLogLevel(newLevel). For SparkR, use setLogLevel(newLevel).\n",
      "23/10/29 22:25:05 WARN NativeCodeLoader: Unable to load native-hadoop library for your platform... using builtin-java classes where applicable\n"
     ]
    }
   ],
   "source": [
    "sc=pyspark.SparkContext(appName=\"RDD\")\n"
   ]
  },
  {
   "cell_type": "code",
   "execution_count": 5,
   "id": "81786c1f",
   "metadata": {
    "execution": {
     "iopub.execute_input": "2023-10-29T22:25:07.762282Z",
     "iopub.status.busy": "2023-10-29T22:25:07.761488Z",
     "iopub.status.idle": "2023-10-29T22:25:08.966089Z",
     "shell.execute_reply": "2023-10-29T22:25:08.964827Z"
    },
    "papermill": {
     "duration": 1.303581,
     "end_time": "2023-10-29T22:25:08.969410",
     "exception": false,
     "start_time": "2023-10-29T22:25:07.665829",
     "status": "completed"
    },
    "tags": []
   },
   "outputs": [
    {
     "data": {
      "text/plain": [
       "['chupke chupke rat din', 'hume tumse pyaar kitna', 'rafta rafta vo mere ']"
      ]
     },
     "execution_count": 5,
     "metadata": {},
     "output_type": "execute_result"
    }
   ],
   "source": [
    "songs=sc.parallelize(['chupke chupke rat din','hume tumse pyaar kitna','rafta rafta vo mere '])\n",
    "songs.collect()"
   ]
  },
  {
   "cell_type": "code",
   "execution_count": 6,
   "id": "7aea8e66",
   "metadata": {
    "execution": {
     "iopub.execute_input": "2023-10-29T22:25:09.064576Z",
     "iopub.status.busy": "2023-10-29T22:25:09.063568Z",
     "iopub.status.idle": "2023-10-29T22:25:10.943959Z",
     "shell.execute_reply": "2023-10-29T22:25:10.942845Z"
    },
    "papermill": {
     "duration": 1.933577,
     "end_time": "2023-10-29T22:25:10.948295",
     "exception": false,
     "start_time": "2023-10-29T22:25:09.014718",
     "status": "completed"
    },
    "tags": []
   },
   "outputs": [
    {
     "name": "stderr",
     "output_type": "stream",
     "text": [
      "                                                                                \r"
     ]
    },
    {
     "data": {
      "text/plain": [
       "['CHUPKE CHUPKE RAT DIN', 'HUME TUMSE PYAAR KITNA', 'RAFTA RAFTA VO MERE ']"
      ]
     },
     "execution_count": 6,
     "metadata": {},
     "output_type": "execute_result"
    }
   ],
   "source": [
    "dist_song=songs.map(lambda a:a.upper())\n",
    "dist_song.collect()"
   ]
  },
  {
   "cell_type": "code",
   "execution_count": 7,
   "id": "b09b2362",
   "metadata": {
    "execution": {
     "iopub.execute_input": "2023-10-29T22:25:11.055834Z",
     "iopub.status.busy": "2023-10-29T22:25:11.055355Z",
     "iopub.status.idle": "2023-10-29T22:25:11.073046Z",
     "shell.execute_reply": "2023-10-29T22:25:11.071758Z"
    },
    "papermill": {
     "duration": 0.061082,
     "end_time": "2023-10-29T22:25:11.077675",
     "exception": false,
     "start_time": "2023-10-29T22:25:11.016593",
     "status": "completed"
    },
    "tags": []
   },
   "outputs": [
    {
     "data": {
      "text/plain": [
       "pyspark.rdd.RDD"
      ]
     },
     "execution_count": 7,
     "metadata": {},
     "output_type": "execute_result"
    }
   ],
   "source": [
    "names=sc.parallelize(['Adam','Cray','Shaun','Brain','Mark','Christ','Shail','Satya','Mark','Norby','Frans'])\n",
    "\n",
    "type(names)"
   ]
  },
  {
   "cell_type": "code",
   "execution_count": 8,
   "id": "1bee49b3",
   "metadata": {
    "execution": {
     "iopub.execute_input": "2023-10-29T22:25:11.151882Z",
     "iopub.status.busy": "2023-10-29T22:25:11.151069Z",
     "iopub.status.idle": "2023-10-29T22:25:11.277942Z",
     "shell.execute_reply": "2023-10-29T22:25:11.276687Z"
    },
    "papermill": {
     "duration": 0.164067,
     "end_time": "2023-10-29T22:25:11.282115",
     "exception": false,
     "start_time": "2023-10-29T22:25:11.118048",
     "status": "completed"
    },
    "tags": []
   },
   "outputs": [
    {
     "data": {
      "text/plain": [
       "['Adam',\n",
       " 'Cray',\n",
       " 'Shaun',\n",
       " 'Brain',\n",
       " 'Mark',\n",
       " 'Christ',\n",
       " 'Shail',\n",
       " 'Satya',\n",
       " 'Mark',\n",
       " 'Norby',\n",
       " 'Frans']"
      ]
     },
     "execution_count": 8,
     "metadata": {},
     "output_type": "execute_result"
    }
   ],
   "source": [
    "names.collect()"
   ]
  },
  {
   "cell_type": "code",
   "execution_count": 9,
   "id": "9d14a401",
   "metadata": {
    "execution": {
     "iopub.execute_input": "2023-10-29T22:25:11.367940Z",
     "iopub.status.busy": "2023-10-29T22:25:11.367400Z",
     "iopub.status.idle": "2023-10-29T22:25:11.376440Z",
     "shell.execute_reply": "2023-10-29T22:25:11.374925Z"
    },
    "papermill": {
     "duration": 0.050202,
     "end_time": "2023-10-29T22:25:11.378909",
     "exception": false,
     "start_time": "2023-10-29T22:25:11.328707",
     "status": "completed"
    },
    "tags": []
   },
   "outputs": [
    {
     "data": {
      "text/plain": [
       "list"
      ]
     },
     "execution_count": 9,
     "metadata": {},
     "output_type": "execute_result"
    }
   ],
   "source": [
    "a=['Adam','Cray','Shaun','Brain','Mark','Christ','Shail','Satya','Mark','Norby','Frans']\n",
    "type(a)"
   ]
  },
  {
   "cell_type": "code",
   "execution_count": 10,
   "id": "af6b61a2",
   "metadata": {
    "execution": {
     "iopub.execute_input": "2023-10-29T22:25:11.446958Z",
     "iopub.status.busy": "2023-10-29T22:25:11.445994Z",
     "iopub.status.idle": "2023-10-29T22:25:11.571185Z",
     "shell.execute_reply": "2023-10-29T22:25:11.570037Z"
    },
    "papermill": {
     "duration": 0.162669,
     "end_time": "2023-10-29T22:25:11.574426",
     "exception": false,
     "start_time": "2023-10-29T22:25:11.411757",
     "status": "completed"
    },
    "tags": []
   },
   "outputs": [
    {
     "data": {
      "text/plain": [
       "['Adam',\n",
       " 'Cray',\n",
       " 'Shaun',\n",
       " 'Brain',\n",
       " 'Mark',\n",
       " 'Christ',\n",
       " 'Shail',\n",
       " 'Satya',\n",
       " 'Mark',\n",
       " 'Norby',\n",
       " 'Frans']"
      ]
     },
     "execution_count": 10,
     "metadata": {},
     "output_type": "execute_result"
    }
   ],
   "source": [
    "names2=sc.parallelize(a)\n",
    "names2.collect()"
   ]
  },
  {
   "cell_type": "code",
   "execution_count": 11,
   "id": "2886c954",
   "metadata": {
    "execution": {
     "iopub.execute_input": "2023-10-29T22:25:11.644994Z",
     "iopub.status.busy": "2023-10-29T22:25:11.644195Z",
     "iopub.status.idle": "2023-10-29T22:25:11.651285Z",
     "shell.execute_reply": "2023-10-29T22:25:11.650339Z"
    },
    "papermill": {
     "duration": 0.042593,
     "end_time": "2023-10-29T22:25:11.653595",
     "exception": false,
     "start_time": "2023-10-29T22:25:11.611002",
     "status": "completed"
    },
    "tags": []
   },
   "outputs": [
    {
     "data": {
      "text/plain": [
       "pyspark.rdd.RDD"
      ]
     },
     "execution_count": 11,
     "metadata": {},
     "output_type": "execute_result"
    }
   ],
   "source": [
    "type(names2)"
   ]
  },
  {
   "cell_type": "markdown",
   "id": "df4e6297",
   "metadata": {
    "papermill": {
     "duration": 0.031383,
     "end_time": "2023-10-29T22:25:11.716744",
     "exception": false,
     "start_time": "2023-10-29T22:25:11.685361",
     "status": "completed"
    },
    "tags": []
   },
   "source": [
    "## Count Utilizes"
   ]
  },
  {
   "cell_type": "code",
   "execution_count": 12,
   "id": "0d5118a5",
   "metadata": {
    "execution": {
     "iopub.execute_input": "2023-10-29T22:25:11.811101Z",
     "iopub.status.busy": "2023-10-29T22:25:11.810279Z",
     "iopub.status.idle": "2023-10-29T22:25:12.359398Z",
     "shell.execute_reply": "2023-10-29T22:25:12.358456Z"
    },
    "papermill": {
     "duration": 0.599575,
     "end_time": "2023-10-29T22:25:12.362518",
     "exception": false,
     "start_time": "2023-10-29T22:25:11.762943",
     "status": "completed"
    },
    "tags": []
   },
   "outputs": [
    {
     "data": {
      "text/plain": [
       "11"
      ]
     },
     "execution_count": 12,
     "metadata": {},
     "output_type": "execute_result"
    }
   ],
   "source": [
    "names.count()"
   ]
  },
  {
   "cell_type": "code",
   "execution_count": 13,
   "id": "639a255f",
   "metadata": {
    "execution": {
     "iopub.execute_input": "2023-10-29T22:25:12.432620Z",
     "iopub.status.busy": "2023-10-29T22:25:12.432193Z",
     "iopub.status.idle": "2023-10-29T22:25:13.036606Z",
     "shell.execute_reply": "2023-10-29T22:25:13.035455Z"
    },
    "papermill": {
     "duration": 0.641864,
     "end_time": "2023-10-29T22:25:13.039879",
     "exception": false,
     "start_time": "2023-10-29T22:25:12.398015",
     "status": "completed"
    },
    "tags": []
   },
   "outputs": [
    {
     "data": {
      "text/plain": [
       "defaultdict(int,\n",
       "            {'Adam': 1,\n",
       "             'Cray': 1,\n",
       "             'Shaun': 1,\n",
       "             'Brain': 1,\n",
       "             'Mark': 2,\n",
       "             'Christ': 1,\n",
       "             'Shail': 1,\n",
       "             'Satya': 1,\n",
       "             'Norby': 1,\n",
       "             'Frans': 1})"
      ]
     },
     "execution_count": 13,
     "metadata": {},
     "output_type": "execute_result"
    }
   ],
   "source": [
    "names.countByValue()"
   ]
  },
  {
   "cell_type": "markdown",
   "id": "35dad808",
   "metadata": {
    "papermill": {
     "duration": 0.033373,
     "end_time": "2023-10-29T22:25:13.112788",
     "exception": false,
     "start_time": "2023-10-29T22:25:13.079415",
     "status": "completed"
    },
    "tags": []
   },
   "source": [
    "## .foreach() function"
   ]
  },
  {
   "cell_type": "code",
   "execution_count": 14,
   "id": "9481666f",
   "metadata": {
    "execution": {
     "iopub.execute_input": "2023-10-29T22:25:13.179265Z",
     "iopub.status.busy": "2023-10-29T22:25:13.178850Z",
     "iopub.status.idle": "2023-10-29T22:25:13.815532Z",
     "shell.execute_reply": "2023-10-29T22:25:13.814322Z"
    },
    "papermill": {
     "duration": 0.673463,
     "end_time": "2023-10-29T22:25:13.818674",
     "exception": false,
     "start_time": "2023-10-29T22:25:13.145211",
     "status": "completed"
    },
    "tags": []
   },
   "outputs": [
    {
     "name": "stderr",
     "output_type": "stream",
     "text": [
      "Adam\n",
      "Cray\n",
      "Mark\n",
      "Norby\n",
      "Frans\n",
      "Shaun\n",
      "Brain\n",
      "Mark\n",
      "Christ\n",
      "Shail\n",
      "Satya\n",
      "                                                                                \r"
     ]
    }
   ],
   "source": [
    "def f(x) : print(x)\n",
    "    \n",
    "names.foreach(lambda x:print(x))"
   ]
  },
  {
   "cell_type": "code",
   "execution_count": 15,
   "id": "3be38036",
   "metadata": {
    "execution": {
     "iopub.execute_input": "2023-10-29T22:25:13.887545Z",
     "iopub.status.busy": "2023-10-29T22:25:13.886114Z",
     "iopub.status.idle": "2023-10-29T22:25:13.987175Z",
     "shell.execute_reply": "2023-10-29T22:25:13.985949Z"
    },
    "papermill": {
     "duration": 0.139267,
     "end_time": "2023-10-29T22:25:13.990630",
     "exception": false,
     "start_time": "2023-10-29T22:25:13.851363",
     "status": "completed"
    },
    "tags": []
   },
   "outputs": [
    {
     "data": {
      "text/plain": [
       "[(1, 2), (1, 3), (2, 4), (2, 6), (2, 8)]"
      ]
     },
     "execution_count": 15,
     "metadata": {},
     "output_type": "execute_result"
    }
   ],
   "source": [
    "dict=sc.parallelize([(1,2),(1,3),(2,4),(2,6),(2,8)])\n",
    "\n",
    "dict.collect()"
   ]
  },
  {
   "cell_type": "code",
   "execution_count": 16,
   "id": "896db32b",
   "metadata": {
    "execution": {
     "iopub.execute_input": "2023-10-29T22:25:14.065409Z",
     "iopub.status.busy": "2023-10-29T22:25:14.064578Z",
     "iopub.status.idle": "2023-10-29T22:25:14.665744Z",
     "shell.execute_reply": "2023-10-29T22:25:14.664627Z"
    },
    "papermill": {
     "duration": 0.641184,
     "end_time": "2023-10-29T22:25:14.668689",
     "exception": false,
     "start_time": "2023-10-29T22:25:14.027505",
     "status": "completed"
    },
    "tags": []
   },
   "outputs": [
    {
     "data": {
      "text/plain": [
       "5"
      ]
     },
     "execution_count": 16,
     "metadata": {},
     "output_type": "execute_result"
    }
   ],
   "source": [
    "dict.count()"
   ]
  },
  {
   "cell_type": "code",
   "execution_count": 17,
   "id": "15963e87",
   "metadata": {
    "execution": {
     "iopub.execute_input": "2023-10-29T22:25:14.742982Z",
     "iopub.status.busy": "2023-10-29T22:25:14.742457Z",
     "iopub.status.idle": "2023-10-29T22:25:15.387621Z",
     "shell.execute_reply": "2023-10-29T22:25:15.386468Z"
    },
    "papermill": {
     "duration": 0.683114,
     "end_time": "2023-10-29T22:25:15.391026",
     "exception": false,
     "start_time": "2023-10-29T22:25:14.707912",
     "status": "completed"
    },
    "tags": []
   },
   "outputs": [
    {
     "data": {
      "text/plain": [
       "defaultdict(int, {1: 2, 2: 3})"
      ]
     },
     "execution_count": 17,
     "metadata": {},
     "output_type": "execute_result"
    }
   ],
   "source": [
    "dict.countByKey()\n",
    "\n",
    " "
   ]
  },
  {
   "cell_type": "code",
   "execution_count": 18,
   "id": "3eb87edc",
   "metadata": {
    "execution": {
     "iopub.execute_input": "2023-10-29T22:25:15.471624Z",
     "iopub.status.busy": "2023-10-29T22:25:15.471106Z",
     "iopub.status.idle": "2023-10-29T22:25:16.121908Z",
     "shell.execute_reply": "2023-10-29T22:25:16.120772Z"
    },
    "papermill": {
     "duration": 0.690022,
     "end_time": "2023-10-29T22:25:16.125700",
     "exception": false,
     "start_time": "2023-10-29T22:25:15.435678",
     "status": "completed"
    },
    "tags": []
   },
   "outputs": [
    {
     "data": {
      "text/plain": [
       "defaultdict(int, {(1, 2): 1, (1, 3): 1, (2, 4): 1, (2, 6): 1, (2, 8): 1})"
      ]
     },
     "execution_count": 18,
     "metadata": {},
     "output_type": "execute_result"
    }
   ],
   "source": [
    "dict.countByValue()"
   ]
  },
  {
   "cell_type": "code",
   "execution_count": 19,
   "id": "e2cefffe",
   "metadata": {
    "execution": {
     "iopub.execute_input": "2023-10-29T22:25:16.217943Z",
     "iopub.status.busy": "2023-10-29T22:25:16.216473Z",
     "iopub.status.idle": "2023-10-29T22:25:16.511266Z",
     "shell.execute_reply": "2023-10-29T22:25:16.510087Z"
    },
    "papermill": {
     "duration": 0.340411,
     "end_time": "2023-10-29T22:25:16.514222",
     "exception": false,
     "start_time": "2023-10-29T22:25:16.173811",
     "status": "completed"
    },
    "tags": []
   },
   "outputs": [
    {
     "data": {
      "text/plain": [
       "['Adam', 'Cray']"
      ]
     },
     "execution_count": 19,
     "metadata": {},
     "output_type": "execute_result"
    }
   ],
   "source": [
    "names.take(2)"
   ]
  },
  {
   "cell_type": "markdown",
   "id": "1a07bf34",
   "metadata": {
    "papermill": {
     "duration": 0.032849,
     "end_time": "2023-10-29T22:25:16.580330",
     "exception": false,
     "start_time": "2023-10-29T22:25:16.547481",
     "status": "completed"
    },
    "tags": []
   },
   "source": [
    "# total names is 11 "
   ]
  },
  {
   "cell_type": "code",
   "execution_count": 20,
   "id": "f3619fa5",
   "metadata": {
    "execution": {
     "iopub.execute_input": "2023-10-29T22:25:16.649920Z",
     "iopub.status.busy": "2023-10-29T22:25:16.649034Z",
     "iopub.status.idle": "2023-10-29T22:25:17.547341Z",
     "shell.execute_reply": "2023-10-29T22:25:17.545951Z"
    },
    "papermill": {
     "duration": 0.937539,
     "end_time": "2023-10-29T22:25:17.551279",
     "exception": false,
     "start_time": "2023-10-29T22:25:16.613740",
     "status": "completed"
    },
    "tags": []
   },
   "outputs": [
    {
     "data": {
      "text/plain": [
       "['Adam',\n",
       " 'Cray',\n",
       " 'Shaun',\n",
       " 'Brain',\n",
       " 'Mark',\n",
       " 'Christ',\n",
       " 'Shail',\n",
       " 'Satya',\n",
       " 'Mark',\n",
       " 'Norby',\n",
       " 'Frans']"
      ]
     },
     "execution_count": 20,
     "metadata": {},
     "output_type": "execute_result"
    }
   ],
   "source": [
    "names.take(12)"
   ]
  },
  {
   "cell_type": "code",
   "execution_count": 21,
   "id": "41c9a071",
   "metadata": {
    "execution": {
     "iopub.execute_input": "2023-10-29T22:25:17.660262Z",
     "iopub.status.busy": "2023-10-29T22:25:17.659815Z",
     "iopub.status.idle": "2023-10-29T22:25:17.925454Z",
     "shell.execute_reply": "2023-10-29T22:25:17.924563Z"
    },
    "papermill": {
     "duration": 0.319393,
     "end_time": "2023-10-29T22:25:17.928405",
     "exception": false,
     "start_time": "2023-10-29T22:25:17.609012",
     "status": "completed"
    },
    "tags": []
   },
   "outputs": [
    {
     "data": {
      "text/plain": [
       "'Adam'"
      ]
     },
     "execution_count": 21,
     "metadata": {},
     "output_type": "execute_result"
    }
   ],
   "source": [
    "names.first()"
   ]
  },
  {
   "cell_type": "code",
   "execution_count": 22,
   "id": "6c20d3c1",
   "metadata": {
    "execution": {
     "iopub.execute_input": "2023-10-29T22:25:18.002358Z",
     "iopub.status.busy": "2023-10-29T22:25:18.001381Z",
     "iopub.status.idle": "2023-10-29T22:25:18.575738Z",
     "shell.execute_reply": "2023-10-29T22:25:18.574346Z"
    },
    "papermill": {
     "duration": 0.613678,
     "end_time": "2023-10-29T22:25:18.579251",
     "exception": false,
     "start_time": "2023-10-29T22:25:17.965573",
     "status": "completed"
    },
    "tags": []
   },
   "outputs": [
    {
     "data": {
      "text/plain": [
       "11"
      ]
     },
     "execution_count": 22,
     "metadata": {},
     "output_type": "execute_result"
    }
   ],
   "source": [
    "names.count()"
   ]
  },
  {
   "cell_type": "code",
   "execution_count": 23,
   "id": "afd55325",
   "metadata": {
    "execution": {
     "iopub.execute_input": "2023-10-29T22:25:18.649480Z",
     "iopub.status.busy": "2023-10-29T22:25:18.649078Z",
     "iopub.status.idle": "2023-10-29T22:25:19.133938Z",
     "shell.execute_reply": "2023-10-29T22:25:19.132716Z"
    },
    "papermill": {
     "duration": 0.526407,
     "end_time": "2023-10-29T22:25:19.139786",
     "exception": false,
     "start_time": "2023-10-29T22:25:18.613379",
     "status": "completed"
    },
    "tags": []
   },
   "outputs": [
    {
     "data": {
      "text/plain": [
       "['Shaun', 'Shail']"
      ]
     },
     "execution_count": 23,
     "metadata": {},
     "output_type": "execute_result"
    }
   ],
   "source": [
    "names.top(2)"
   ]
  },
  {
   "cell_type": "code",
   "execution_count": 24,
   "id": "72a2d2f2",
   "metadata": {
    "execution": {
     "iopub.execute_input": "2023-10-29T22:25:19.280668Z",
     "iopub.status.busy": "2023-10-29T22:25:19.280109Z",
     "iopub.status.idle": "2023-10-29T22:25:21.021116Z",
     "shell.execute_reply": "2023-10-29T22:25:21.020109Z"
    },
    "papermill": {
     "duration": 1.810531,
     "end_time": "2023-10-29T22:25:21.024995",
     "exception": false,
     "start_time": "2023-10-29T22:25:19.214464",
     "status": "completed"
    },
    "tags": []
   },
   "outputs": [
    {
     "name": "stderr",
     "output_type": "stream",
     "text": [
      "                                                                                \r"
     ]
    },
    {
     "data": {
      "text/plain": [
       "10"
      ]
     },
     "execution_count": 24,
     "metadata": {},
     "output_type": "execute_result"
    }
   ],
   "source": [
    "names.distinct().count()"
   ]
  },
  {
   "cell_type": "markdown",
   "id": "6ac419d3",
   "metadata": {
    "papermill": {
     "duration": 0.05253,
     "end_time": "2023-10-29T22:25:21.128748",
     "exception": false,
     "start_time": "2023-10-29T22:25:21.076218",
     "status": "completed"
    },
    "tags": []
   },
   "source": [
    "# Numerical Examples "
   ]
  },
  {
   "cell_type": "code",
   "execution_count": 25,
   "id": "25794d7e",
   "metadata": {
    "execution": {
     "iopub.execute_input": "2023-10-29T22:25:21.224484Z",
     "iopub.status.busy": "2023-10-29T22:25:21.224077Z",
     "iopub.status.idle": "2023-10-29T22:25:21.315360Z",
     "shell.execute_reply": "2023-10-29T22:25:21.313966Z"
    },
    "papermill": {
     "duration": 0.132068,
     "end_time": "2023-10-29T22:25:21.318706",
     "exception": false,
     "start_time": "2023-10-29T22:25:21.186638",
     "status": "completed"
    },
    "tags": []
   },
   "outputs": [
    {
     "data": {
      "text/plain": [
       "[5, 5, 4, 3, 2, 9, 2]"
      ]
     },
     "execution_count": 25,
     "metadata": {},
     "output_type": "execute_result"
    }
   ],
   "source": [
    "num=sc.parallelize([5,5,4,3,2,9,2],10)\n",
    "\n",
    "num.collect()"
   ]
  },
  {
   "cell_type": "code",
   "execution_count": 26,
   "id": "4c7f3a62",
   "metadata": {
    "execution": {
     "iopub.execute_input": "2023-10-29T22:25:21.421426Z",
     "iopub.status.busy": "2023-10-29T22:25:21.420461Z",
     "iopub.status.idle": "2023-10-29T22:25:22.705664Z",
     "shell.execute_reply": "2023-10-29T22:25:22.703654Z"
    },
    "papermill": {
     "duration": 1.33394,
     "end_time": "2023-10-29T22:25:22.708349",
     "exception": false,
     "start_time": "2023-10-29T22:25:21.374409",
     "status": "completed"
    },
    "tags": []
   },
   "outputs": [
    {
     "name": "stderr",
     "output_type": "stream",
     "text": [
      "                                                                                \r"
     ]
    },
    {
     "data": {
      "text/plain": [
       "defaultdict(int, {5: 2, 4: 1, 3: 1, 2: 2, 9: 1})"
      ]
     },
     "execution_count": 26,
     "metadata": {},
     "output_type": "execute_result"
    }
   ],
   "source": [
    "num.countByValue()"
   ]
  },
  {
   "cell_type": "code",
   "execution_count": 27,
   "id": "eaf4bb06",
   "metadata": {
    "execution": {
     "iopub.execute_input": "2023-10-29T22:25:22.780050Z",
     "iopub.status.busy": "2023-10-29T22:25:22.779209Z",
     "iopub.status.idle": "2023-10-29T22:25:22.786374Z",
     "shell.execute_reply": "2023-10-29T22:25:22.785304Z"
    },
    "papermill": {
     "duration": 0.045871,
     "end_time": "2023-10-29T22:25:22.788701",
     "exception": false,
     "start_time": "2023-10-29T22:25:22.742830",
     "status": "completed"
    },
    "tags": []
   },
   "outputs": [
    {
     "data": {
      "text/plain": [
       "pyspark.rdd.RDD"
      ]
     },
     "execution_count": 27,
     "metadata": {},
     "output_type": "execute_result"
    }
   ],
   "source": [
    "type(num)"
   ]
  },
  {
   "cell_type": "markdown",
   "id": "3342c7f9",
   "metadata": {
    "papermill": {
     "duration": 0.034542,
     "end_time": "2023-10-29T22:25:22.858715",
     "exception": false,
     "start_time": "2023-10-29T22:25:22.824173",
     "status": "completed"
    },
    "tags": []
   },
   "source": [
    "# GLOM Tuple RDD  ->num=sc.parallelize([5,5,4,3,2,9,2],10)  based on partition values its make List/RDD "
   ]
  },
  {
   "cell_type": "code",
   "execution_count": 28,
   "id": "44999be4",
   "metadata": {
    "execution": {
     "iopub.execute_input": "2023-10-29T22:25:22.930895Z",
     "iopub.status.busy": "2023-10-29T22:25:22.930081Z",
     "iopub.status.idle": "2023-10-29T22:25:24.135975Z",
     "shell.execute_reply": "2023-10-29T22:25:24.134814Z"
    },
    "papermill": {
     "duration": 1.245702,
     "end_time": "2023-10-29T22:25:24.139096",
     "exception": false,
     "start_time": "2023-10-29T22:25:22.893394",
     "status": "completed"
    },
    "tags": []
   },
   "outputs": [
    {
     "name": "stderr",
     "output_type": "stream",
     "text": [
      "                                                                                \r"
     ]
    },
    {
     "data": {
      "text/plain": [
       "[[], [5], [5], [], [4], [3], [], [2], [9], [2]]"
      ]
     },
     "execution_count": 28,
     "metadata": {},
     "output_type": "execute_result"
    }
   ],
   "source": [
    "num.glom().collect()"
   ]
  },
  {
   "cell_type": "code",
   "execution_count": 29,
   "id": "09c66a39",
   "metadata": {
    "execution": {
     "iopub.execute_input": "2023-10-29T22:25:24.218986Z",
     "iopub.status.busy": "2023-10-29T22:25:24.217582Z",
     "iopub.status.idle": "2023-10-29T22:25:25.286404Z",
     "shell.execute_reply": "2023-10-29T22:25:25.285184Z"
    },
    "papermill": {
     "duration": 1.110498,
     "end_time": "2023-10-29T22:25:25.290774",
     "exception": false,
     "start_time": "2023-10-29T22:25:24.180276",
     "status": "completed"
    },
    "tags": []
   },
   "outputs": [
    {
     "name": "stderr",
     "output_type": "stream",
     "text": [
      "                                                                                \r"
     ]
    },
    {
     "data": {
      "text/plain": [
       "list"
      ]
     },
     "execution_count": 29,
     "metadata": {},
     "output_type": "execute_result"
    }
   ],
   "source": [
    "tp=num.glom().collect()\n",
    "type(tp)"
   ]
  },
  {
   "cell_type": "code",
   "execution_count": 30,
   "id": "f3fdc67f",
   "metadata": {
    "execution": {
     "iopub.execute_input": "2023-10-29T22:25:25.373660Z",
     "iopub.status.busy": "2023-10-29T22:25:25.373264Z",
     "iopub.status.idle": "2023-10-29T22:25:25.380178Z",
     "shell.execute_reply": "2023-10-29T22:25:25.379149Z"
    },
    "papermill": {
     "duration": 0.047799,
     "end_time": "2023-10-29T22:25:25.382571",
     "exception": false,
     "start_time": "2023-10-29T22:25:25.334772",
     "status": "completed"
    },
    "tags": []
   },
   "outputs": [
    {
     "data": {
      "text/plain": [
       "pyspark.rdd.PipelinedRDD"
      ]
     },
     "execution_count": 30,
     "metadata": {},
     "output_type": "execute_result"
    }
   ],
   "source": [
    "type(num.glom())"
   ]
  },
  {
   "cell_type": "code",
   "execution_count": 31,
   "id": "1e2b71c9",
   "metadata": {
    "execution": {
     "iopub.execute_input": "2023-10-29T22:25:25.460326Z",
     "iopub.status.busy": "2023-10-29T22:25:25.459839Z",
     "iopub.status.idle": "2023-10-29T22:25:26.516903Z",
     "shell.execute_reply": "2023-10-29T22:25:26.515720Z"
    },
    "papermill": {
     "duration": 1.100605,
     "end_time": "2023-10-29T22:25:26.520231",
     "exception": false,
     "start_time": "2023-10-29T22:25:25.419626",
     "status": "completed"
    },
    "tags": []
   },
   "outputs": [
    {
     "name": "stderr",
     "output_type": "stream",
     "text": [
      "                                                                                \r"
     ]
    },
    {
     "data": {
      "text/plain": [
       "9"
      ]
     },
     "execution_count": 31,
     "metadata": {},
     "output_type": "execute_result"
    }
   ],
   "source": [
    "num.max()"
   ]
  },
  {
   "cell_type": "code",
   "execution_count": 32,
   "id": "fb4c3a63",
   "metadata": {
    "execution": {
     "iopub.execute_input": "2023-10-29T22:25:26.595041Z",
     "iopub.status.busy": "2023-10-29T22:25:26.594623Z",
     "iopub.status.idle": "2023-10-29T22:25:27.768983Z",
     "shell.execute_reply": "2023-10-29T22:25:27.768161Z"
    },
    "papermill": {
     "duration": 1.216185,
     "end_time": "2023-10-29T22:25:27.773325",
     "exception": false,
     "start_time": "2023-10-29T22:25:26.557140",
     "status": "completed"
    },
    "tags": []
   },
   "outputs": [
    {
     "name": "stderr",
     "output_type": "stream",
     "text": [
      "                                                                                \r"
     ]
    },
    {
     "data": {
      "text/plain": [
       "2"
      ]
     },
     "execution_count": 32,
     "metadata": {},
     "output_type": "execute_result"
    }
   ],
   "source": [
    "num.min()"
   ]
  },
  {
   "cell_type": "code",
   "execution_count": 33,
   "id": "5c83060f",
   "metadata": {
    "execution": {
     "iopub.execute_input": "2023-10-29T22:25:27.858173Z",
     "iopub.status.busy": "2023-10-29T22:25:27.857480Z",
     "iopub.status.idle": "2023-10-29T22:25:29.038101Z",
     "shell.execute_reply": "2023-10-29T22:25:29.037048Z"
    },
    "papermill": {
     "duration": 1.222209,
     "end_time": "2023-10-29T22:25:29.041668",
     "exception": false,
     "start_time": "2023-10-29T22:25:27.819459",
     "status": "completed"
    },
    "tags": []
   },
   "outputs": [
    {
     "name": "stderr",
     "output_type": "stream",
     "text": [
      "                                                                                \r"
     ]
    },
    {
     "data": {
      "text/plain": [
       "4.285714285714286"
      ]
     },
     "execution_count": 33,
     "metadata": {},
     "output_type": "execute_result"
    }
   ],
   "source": [
    "num.mean()"
   ]
  },
  {
   "cell_type": "code",
   "execution_count": 34,
   "id": "791c9474",
   "metadata": {
    "execution": {
     "iopub.execute_input": "2023-10-29T22:25:29.123838Z",
     "iopub.status.busy": "2023-10-29T22:25:29.123122Z",
     "iopub.status.idle": "2023-10-29T22:25:29.174444Z",
     "shell.execute_reply": "2023-10-29T22:25:29.173271Z"
    },
    "papermill": {
     "duration": 0.09378,
     "end_time": "2023-10-29T22:25:29.177182",
     "exception": false,
     "start_time": "2023-10-29T22:25:29.083402",
     "status": "completed"
    },
    "tags": []
   },
   "outputs": [
    {
     "data": {
      "text/plain": [
       "[5, 5, 4, 3, 2, 9, 2]"
      ]
     },
     "execution_count": 34,
     "metadata": {},
     "output_type": "execute_result"
    }
   ],
   "source": [
    "num.collect()"
   ]
  },
  {
   "cell_type": "markdown",
   "id": "04c96d54",
   "metadata": {
    "papermill": {
     "duration": 0.037294,
     "end_time": "2023-10-29T22:25:29.251759",
     "exception": false,
     "start_time": "2023-10-29T22:25:29.214465",
     "status": "completed"
    },
    "tags": []
   },
   "source": [
    "# reduce function with lambda a,b:a+b\n",
    "1.a=5 b=5->10. a=10  2.b=3  "
   ]
  },
  {
   "cell_type": "code",
   "execution_count": 35,
   "id": "0a3074e0",
   "metadata": {
    "execution": {
     "iopub.execute_input": "2023-10-29T22:25:29.327979Z",
     "iopub.status.busy": "2023-10-29T22:25:29.326656Z",
     "iopub.status.idle": "2023-10-29T22:25:30.360840Z",
     "shell.execute_reply": "2023-10-29T22:25:30.359016Z"
    },
    "papermill": {
     "duration": 1.07592,
     "end_time": "2023-10-29T22:25:30.364298",
     "exception": false,
     "start_time": "2023-10-29T22:25:29.288378",
     "status": "completed"
    },
    "tags": []
   },
   "outputs": [
    {
     "name": "stderr",
     "output_type": "stream",
     "text": [
      "                                                                                \r"
     ]
    },
    {
     "data": {
      "text/plain": [
       "30"
      ]
     },
     "execution_count": 35,
     "metadata": {},
     "output_type": "execute_result"
    }
   ],
   "source": [
    "num.reduce(lambda a,b:a+b)"
   ]
  },
  {
   "cell_type": "code",
   "execution_count": 36,
   "id": "63386b7c",
   "metadata": {
    "execution": {
     "iopub.execute_input": "2023-10-29T22:25:30.447723Z",
     "iopub.status.busy": "2023-10-29T22:25:30.447331Z",
     "iopub.status.idle": "2023-10-29T22:25:31.531180Z",
     "shell.execute_reply": "2023-10-29T22:25:31.530009Z"
    },
    "papermill": {
     "duration": 1.127654,
     "end_time": "2023-10-29T22:25:31.535627",
     "exception": false,
     "start_time": "2023-10-29T22:25:30.407973",
     "status": "completed"
    },
    "tags": []
   },
   "outputs": [
    {
     "name": "stderr",
     "output_type": "stream",
     "text": [
      "                                                                                \r"
     ]
    },
    {
     "data": {
      "text/plain": [
       "10800"
      ]
     },
     "execution_count": 36,
     "metadata": {},
     "output_type": "execute_result"
    }
   ],
   "source": [
    "num.reduce(lambda a,b:a*b)"
   ]
  },
  {
   "cell_type": "markdown",
   "id": "1789846c",
   "metadata": {
    "papermill": {
     "duration": 0.037317,
     "end_time": "2023-10-29T22:25:31.619152",
     "exception": false,
     "start_time": "2023-10-29T22:25:31.581835",
     "status": "completed"
    },
    "tags": []
   },
   "source": [
    "# find greatest "
   ]
  },
  {
   "cell_type": "code",
   "execution_count": 37,
   "id": "2a507991",
   "metadata": {
    "execution": {
     "iopub.execute_input": "2023-10-29T22:25:31.695717Z",
     "iopub.status.busy": "2023-10-29T22:25:31.695318Z",
     "iopub.status.idle": "2023-10-29T22:25:32.704488Z",
     "shell.execute_reply": "2023-10-29T22:25:32.703336Z"
    },
    "papermill": {
     "duration": 1.051548,
     "end_time": "2023-10-29T22:25:32.707945",
     "exception": false,
     "start_time": "2023-10-29T22:25:31.656397",
     "status": "completed"
    },
    "tags": []
   },
   "outputs": [
    {
     "name": "stderr",
     "output_type": "stream",
     "text": [
      "                                                                                \r"
     ]
    },
    {
     "data": {
      "text/plain": [
       "9"
      ]
     },
     "execution_count": 37,
     "metadata": {},
     "output_type": "execute_result"
    }
   ],
   "source": [
    "num.reduce(lambda a,b: a if a>b else b)"
   ]
  },
  {
   "cell_type": "markdown",
   "id": "12a5096e",
   "metadata": {
    "papermill": {
     "duration": 0.037264,
     "end_time": "2023-10-29T22:25:32.788752",
     "exception": false,
     "start_time": "2023-10-29T22:25:32.751488",
     "status": "completed"
    },
    "tags": []
   },
   "source": [
    "# find smallest"
   ]
  },
  {
   "cell_type": "code",
   "execution_count": 38,
   "id": "8ce5a077",
   "metadata": {
    "execution": {
     "iopub.execute_input": "2023-10-29T22:25:32.866638Z",
     "iopub.status.busy": "2023-10-29T22:25:32.866231Z",
     "iopub.status.idle": "2023-10-29T22:25:33.880474Z",
     "shell.execute_reply": "2023-10-29T22:25:33.879220Z"
    },
    "papermill": {
     "duration": 1.057152,
     "end_time": "2023-10-29T22:25:33.884266",
     "exception": false,
     "start_time": "2023-10-29T22:25:32.827114",
     "status": "completed"
    },
    "tags": []
   },
   "outputs": [
    {
     "name": "stderr",
     "output_type": "stream",
     "text": [
      "                                                                                \r"
     ]
    },
    {
     "data": {
      "text/plain": [
       "2"
      ]
     },
     "execution_count": 38,
     "metadata": {},
     "output_type": "execute_result"
    }
   ],
   "source": [
    "num.reduce(lambda a,b: a if a<b else b)"
   ]
  },
  {
   "cell_type": "markdown",
   "id": "7d2d177f",
   "metadata": {
    "papermill": {
     "duration": 0.037867,
     "end_time": "2023-10-29T22:25:33.968286",
     "exception": false,
     "start_time": "2023-10-29T22:25:33.930419",
     "status": "completed"
    },
    "tags": []
   },
   "source": [
    "# with python 3 function"
   ]
  },
  {
   "cell_type": "code",
   "execution_count": 39,
   "id": "da726549",
   "metadata": {
    "execution": {
     "iopub.execute_input": "2023-10-29T22:25:34.046672Z",
     "iopub.status.busy": "2023-10-29T22:25:34.046264Z",
     "iopub.status.idle": "2023-10-29T22:25:34.051375Z",
     "shell.execute_reply": "2023-10-29T22:25:34.050241Z"
    },
    "papermill": {
     "duration": 0.046899,
     "end_time": "2023-10-29T22:25:34.053614",
     "exception": false,
     "start_time": "2023-10-29T22:25:34.006715",
     "status": "completed"
    },
    "tags": []
   },
   "outputs": [],
   "source": [
    "def rrdsum(a,b):\n",
    "    return a+b"
   ]
  },
  {
   "cell_type": "code",
   "execution_count": 40,
   "id": "8043a945",
   "metadata": {
    "execution": {
     "iopub.execute_input": "2023-10-29T22:25:34.132621Z",
     "iopub.status.busy": "2023-10-29T22:25:34.132173Z",
     "iopub.status.idle": "2023-10-29T22:25:34.137796Z",
     "shell.execute_reply": "2023-10-29T22:25:34.136477Z"
    },
    "papermill": {
     "duration": 0.048787,
     "end_time": "2023-10-29T22:25:34.140724",
     "exception": false,
     "start_time": "2023-10-29T22:25:34.091937",
     "status": "completed"
    },
    "tags": []
   },
   "outputs": [],
   "source": [
    "def rrdSqurSum(a,b):\n",
    "    return a*2 + b*2"
   ]
  },
  {
   "cell_type": "code",
   "execution_count": 41,
   "id": "1fc98f2f",
   "metadata": {
    "execution": {
     "iopub.execute_input": "2023-10-29T22:25:34.222613Z",
     "iopub.status.busy": "2023-10-29T22:25:34.222168Z",
     "iopub.status.idle": "2023-10-29T22:25:35.235929Z",
     "shell.execute_reply": "2023-10-29T22:25:35.234519Z"
    },
    "papermill": {
     "duration": 1.058556,
     "end_time": "2023-10-29T22:25:35.240133",
     "exception": false,
     "start_time": "2023-10-29T22:25:34.181577",
     "status": "completed"
    },
    "tags": []
   },
   "outputs": [
    {
     "name": "stderr",
     "output_type": "stream",
     "text": [
      "                                                                                \r"
     ]
    },
    {
     "data": {
      "text/plain": [
       "30"
      ]
     },
     "execution_count": 41,
     "metadata": {},
     "output_type": "execute_result"
    }
   ],
   "source": [
    "num.reduce(rrdsum)"
   ]
  },
  {
   "cell_type": "code",
   "execution_count": 42,
   "id": "43152914",
   "metadata": {
    "execution": {
     "iopub.execute_input": "2023-10-29T22:25:35.326982Z",
     "iopub.status.busy": "2023-10-29T22:25:35.326203Z",
     "iopub.status.idle": "2023-10-29T22:25:36.398103Z",
     "shell.execute_reply": "2023-10-29T22:25:36.396938Z"
    },
    "papermill": {
     "duration": 1.116262,
     "end_time": "2023-10-29T22:25:36.400572",
     "exception": false,
     "start_time": "2023-10-29T22:25:35.284310",
     "status": "completed"
    },
    "tags": []
   },
   "outputs": [
    {
     "name": "stderr",
     "output_type": "stream",
     "text": [
      "                                                                                \r"
     ]
    },
    {
     "data": {
      "text/plain": [
       "872"
      ]
     },
     "execution_count": 42,
     "metadata": {},
     "output_type": "execute_result"
    }
   ],
   "source": [
    "num.reduce(rrdSqurSum)"
   ]
  },
  {
   "cell_type": "code",
   "execution_count": 43,
   "id": "065f05f1",
   "metadata": {
    "execution": {
     "iopub.execute_input": "2023-10-29T22:25:36.482989Z",
     "iopub.status.busy": "2023-10-29T22:25:36.482524Z",
     "iopub.status.idle": "2023-10-29T22:25:36.535313Z",
     "shell.execute_reply": "2023-10-29T22:25:36.534232Z"
    },
    "papermill": {
     "duration": 0.097602,
     "end_time": "2023-10-29T22:25:36.537995",
     "exception": false,
     "start_time": "2023-10-29T22:25:36.440393",
     "status": "completed"
    },
    "tags": []
   },
   "outputs": [
    {
     "data": {
      "text/plain": [
       "[5, 5, 4, 3, 2, 9, 2]"
      ]
     },
     "execution_count": 43,
     "metadata": {},
     "output_type": "execute_result"
    }
   ],
   "source": [
    "num.collect()"
   ]
  },
  {
   "cell_type": "code",
   "execution_count": 44,
   "id": "41a87c65",
   "metadata": {
    "execution": {
     "iopub.execute_input": "2023-10-29T22:25:36.618190Z",
     "iopub.status.busy": "2023-10-29T22:25:36.617324Z",
     "iopub.status.idle": "2023-10-29T22:25:37.618981Z",
     "shell.execute_reply": "2023-10-29T22:25:37.617879Z"
    },
    "papermill": {
     "duration": 1.045658,
     "end_time": "2023-10-29T22:25:37.622478",
     "exception": false,
     "start_time": "2023-10-29T22:25:36.576820",
     "status": "completed"
    },
    "tags": []
   },
   "outputs": [
    {
     "name": "stderr",
     "output_type": "stream",
     "text": [
      "                                                                                \r"
     ]
    },
    {
     "data": {
      "text/plain": [
       "[2, 2, 3]"
      ]
     },
     "execution_count": 44,
     "metadata": {},
     "output_type": "execute_result"
    }
   ],
   "source": [
    "num.takeOrdered(3)"
   ]
  },
  {
   "cell_type": "markdown",
   "id": "d581b544",
   "metadata": {
    "papermill": {
     "duration": 0.039928,
     "end_time": "2023-10-29T22:25:37.709668",
     "exception": false,
     "start_time": "2023-10-29T22:25:37.669740",
     "status": "completed"
    },
    "tags": []
   },
   "source": [
    "# fold: the initial value for the accumulated result of each partition for the op operator, \n",
    "# and also the initial value for the combine results from different partitions"
   ]
  },
  {
   "cell_type": "code",
   "execution_count": 45,
   "id": "46e6a75b",
   "metadata": {
    "execution": {
     "iopub.execute_input": "2023-10-29T22:25:37.791592Z",
     "iopub.status.busy": "2023-10-29T22:25:37.790830Z",
     "iopub.status.idle": "2023-10-29T22:25:37.833140Z",
     "shell.execute_reply": "2023-10-29T22:25:37.831957Z"
    },
    "papermill": {
     "duration": 0.087393,
     "end_time": "2023-10-29T22:25:37.836392",
     "exception": false,
     "start_time": "2023-10-29T22:25:37.748999",
     "status": "completed"
    },
    "tags": []
   },
   "outputs": [
    {
     "data": {
      "text/plain": [
       "[5, 5, 4, 3, 2, 9, 2]"
      ]
     },
     "execution_count": 45,
     "metadata": {},
     "output_type": "execute_result"
    }
   ],
   "source": [
    "num = sc.parallelize([5,5,4,3,2,9,2],2)\n",
    "num.collect()"
   ]
  },
  {
   "cell_type": "code",
   "execution_count": 46,
   "id": "610b4a4f",
   "metadata": {
    "execution": {
     "iopub.execute_input": "2023-10-29T22:25:37.921910Z",
     "iopub.status.busy": "2023-10-29T22:25:37.921463Z",
     "iopub.status.idle": "2023-10-29T22:25:38.188841Z",
     "shell.execute_reply": "2023-10-29T22:25:38.187715Z"
    },
    "papermill": {
     "duration": 0.311524,
     "end_time": "2023-10-29T22:25:38.192070",
     "exception": false,
     "start_time": "2023-10-29T22:25:37.880546",
     "status": "completed"
    },
    "tags": []
   },
   "outputs": [
    {
     "data": {
      "text/plain": [
       "[[5, 5, 4], [3, 2, 9, 2]]"
      ]
     },
     "execution_count": 46,
     "metadata": {},
     "output_type": "execute_result"
    }
   ],
   "source": [
    "num.glom().collect()"
   ]
  },
  {
   "cell_type": "code",
   "execution_count": 47,
   "id": "8da690cb",
   "metadata": {
    "execution": {
     "iopub.execute_input": "2023-10-29T22:25:38.283326Z",
     "iopub.status.busy": "2023-10-29T22:25:38.282543Z",
     "iopub.status.idle": "2023-10-29T22:25:38.559241Z",
     "shell.execute_reply": "2023-10-29T22:25:38.558123Z"
    },
    "papermill": {
     "duration": 0.32124,
     "end_time": "2023-10-29T22:25:38.562327",
     "exception": false,
     "start_time": "2023-10-29T22:25:38.241087",
     "status": "completed"
    },
    "tags": []
   },
   "outputs": [
    {
     "data": {
      "text/plain": [
       "30"
      ]
     },
     "execution_count": 47,
     "metadata": {},
     "output_type": "execute_result"
    }
   ],
   "source": [
    "num.reduce(lambda a,b:a+b)"
   ]
  },
  {
   "cell_type": "code",
   "execution_count": 48,
   "id": "e0356a66",
   "metadata": {
    "execution": {
     "iopub.execute_input": "2023-10-29T22:25:38.653596Z",
     "iopub.status.busy": "2023-10-29T22:25:38.652978Z",
     "iopub.status.idle": "2023-10-29T22:25:38.925585Z",
     "shell.execute_reply": "2023-10-29T22:25:38.924329Z"
    },
    "papermill": {
     "duration": 0.31944,
     "end_time": "2023-10-29T22:25:38.928663",
     "exception": false,
     "start_time": "2023-10-29T22:25:38.609223",
     "status": "completed"
    },
    "tags": []
   },
   "outputs": [
    {
     "data": {
      "text/plain": [
       "10800"
      ]
     },
     "execution_count": 48,
     "metadata": {},
     "output_type": "execute_result"
    }
   ],
   "source": [
    "num.reduce(lambda a,b:a*b)"
   ]
  },
  {
   "cell_type": "code",
   "execution_count": 49,
   "id": "6007cd45",
   "metadata": {
    "execution": {
     "iopub.execute_input": "2023-10-29T22:25:39.019732Z",
     "iopub.status.busy": "2023-10-29T22:25:39.019213Z",
     "iopub.status.idle": "2023-10-29T22:25:39.282486Z",
     "shell.execute_reply": "2023-10-29T22:25:39.281315Z"
    },
    "papermill": {
     "duration": 0.308855,
     "end_time": "2023-10-29T22:25:39.286061",
     "exception": false,
     "start_time": "2023-10-29T22:25:38.977206",
     "status": "completed"
    },
    "tags": []
   },
   "outputs": [
    {
     "data": {
      "text/plain": [
       "33"
      ]
     },
     "execution_count": 49,
     "metadata": {},
     "output_type": "execute_result"
    }
   ],
   "source": [
    "num.fold(1,lambda a,b:a+b)"
   ]
  },
  {
   "cell_type": "code",
   "execution_count": 50,
   "id": "bfbf41cd",
   "metadata": {
    "execution": {
     "iopub.execute_input": "2023-10-29T22:25:39.379808Z",
     "iopub.status.busy": "2023-10-29T22:25:39.379400Z",
     "iopub.status.idle": "2023-10-29T22:25:39.641734Z",
     "shell.execute_reply": "2023-10-29T22:25:39.640579Z"
    },
    "papermill": {
     "duration": 0.309296,
     "end_time": "2023-10-29T22:25:39.645106",
     "exception": false,
     "start_time": "2023-10-29T22:25:39.335810",
     "status": "completed"
    },
    "tags": []
   },
   "outputs": [
    {
     "data": {
      "text/plain": [
       "10800"
      ]
     },
     "execution_count": 50,
     "metadata": {},
     "output_type": "execute_result"
    }
   ],
   "source": [
    "num.fold(1,lambda a,b:a*b)"
   ]
  },
  {
   "cell_type": "code",
   "execution_count": 51,
   "id": "5edcc93d",
   "metadata": {
    "execution": {
     "iopub.execute_input": "2023-10-29T22:25:39.736985Z",
     "iopub.status.busy": "2023-10-29T22:25:39.735628Z",
     "iopub.status.idle": "2023-10-29T22:25:39.988029Z",
     "shell.execute_reply": "2023-10-29T22:25:39.986917Z"
    },
    "papermill": {
     "duration": 0.297142,
     "end_time": "2023-10-29T22:25:39.990382",
     "exception": false,
     "start_time": "2023-10-29T22:25:39.693240",
     "status": "completed"
    },
    "tags": []
   },
   "outputs": [
    {
     "data": {
      "text/plain": [
       "[[1, 2, 3, 4, 5]]"
      ]
     },
     "execution_count": 51,
     "metadata": {},
     "output_type": "execute_result"
    }
   ],
   "source": [
    "from operator import add,mul\n",
    "b=sc.parallelize([1,2,3,4,5],1)\n",
    "b.glom().collect()\n",
    "\n",
    "#b.fold(1,add)"
   ]
  },
  {
   "cell_type": "code",
   "execution_count": 52,
   "id": "ec43a9ad",
   "metadata": {
    "execution": {
     "iopub.execute_input": "2023-10-29T22:25:40.073761Z",
     "iopub.status.busy": "2023-10-29T22:25:40.073365Z",
     "iopub.status.idle": "2023-10-29T22:25:40.326289Z",
     "shell.execute_reply": "2023-10-29T22:25:40.325072Z"
    },
    "papermill": {
     "duration": 0.297659,
     "end_time": "2023-10-29T22:25:40.329097",
     "exception": false,
     "start_time": "2023-10-29T22:25:40.031438",
     "status": "completed"
    },
    "tags": []
   },
   "outputs": [
    {
     "data": {
      "text/plain": [
       "17"
      ]
     },
     "execution_count": 52,
     "metadata": {},
     "output_type": "execute_result"
    }
   ],
   "source": [
    "b.fold(1,add)"
   ]
  },
  {
   "cell_type": "code",
   "execution_count": 53,
   "id": "be1c9b24",
   "metadata": {
    "execution": {
     "iopub.execute_input": "2023-10-29T22:25:40.414532Z",
     "iopub.status.busy": "2023-10-29T22:25:40.413201Z",
     "iopub.status.idle": "2023-10-29T22:25:40.680197Z",
     "shell.execute_reply": "2023-10-29T22:25:40.679045Z"
    },
    "papermill": {
     "duration": 0.312678,
     "end_time": "2023-10-29T22:25:40.683311",
     "exception": false,
     "start_time": "2023-10-29T22:25:40.370633",
     "status": "completed"
    },
    "tags": []
   },
   "outputs": [
    {
     "data": {
      "text/plain": [
       "[[1, 2], [3, 4, 5]]"
      ]
     },
     "execution_count": 53,
     "metadata": {},
     "output_type": "execute_result"
    }
   ],
   "source": [
    "c=sc.parallelize([1,2,3,4,5],2)\n",
    "c.glom().collect()"
   ]
  },
  {
   "cell_type": "code",
   "execution_count": 54,
   "id": "8a5a0e87",
   "metadata": {
    "execution": {
     "iopub.execute_input": "2023-10-29T22:25:40.776776Z",
     "iopub.status.busy": "2023-10-29T22:25:40.776156Z",
     "iopub.status.idle": "2023-10-29T22:25:41.085090Z",
     "shell.execute_reply": "2023-10-29T22:25:41.083935Z"
    },
    "papermill": {
     "duration": 0.356398,
     "end_time": "2023-10-29T22:25:41.088385",
     "exception": false,
     "start_time": "2023-10-29T22:25:40.731987",
     "status": "completed"
    },
    "tags": []
   },
   "outputs": [
    {
     "data": {
      "text/plain": [
       "18"
      ]
     },
     "execution_count": 54,
     "metadata": {},
     "output_type": "execute_result"
    }
   ],
   "source": [
    "c.fold(1,add)"
   ]
  },
  {
   "cell_type": "code",
   "execution_count": 55,
   "id": "d2dd894e",
   "metadata": {
    "execution": {
     "iopub.execute_input": "2023-10-29T22:25:41.176143Z",
     "iopub.status.busy": "2023-10-29T22:25:41.175469Z",
     "iopub.status.idle": "2023-10-29T22:25:41.430070Z",
     "shell.execute_reply": "2023-10-29T22:25:41.428565Z"
    },
    "papermill": {
     "duration": 0.301606,
     "end_time": "2023-10-29T22:25:41.433338",
     "exception": false,
     "start_time": "2023-10-29T22:25:41.131732",
     "status": "completed"
    },
    "tags": []
   },
   "outputs": [
    {
     "data": {
      "text/plain": [
       "120"
      ]
     },
     "execution_count": 55,
     "metadata": {},
     "output_type": "execute_result"
    }
   ],
   "source": [
    "d=sc.parallelize([1,2,3,4,5],1).fold(1,mul)\n",
    "d"
   ]
  },
  {
   "cell_type": "code",
   "execution_count": 56,
   "id": "10805598",
   "metadata": {
    "execution": {
     "iopub.execute_input": "2023-10-29T22:25:41.520284Z",
     "iopub.status.busy": "2023-10-29T22:25:41.519899Z",
     "iopub.status.idle": "2023-10-29T22:25:41.892532Z",
     "shell.execute_reply": "2023-10-29T22:25:41.891057Z"
    },
    "papermill": {
     "duration": 0.420743,
     "end_time": "2023-10-29T22:25:41.895975",
     "exception": false,
     "start_time": "2023-10-29T22:25:41.475232",
     "status": "completed"
    },
    "tags": []
   },
   "outputs": [
    {
     "data": {
      "text/plain": [
       "[1, 2, 3, 4, 5, 6, 7, 8, 9]"
      ]
     },
     "execution_count": 56,
     "metadata": {},
     "output_type": "execute_result"
    }
   ],
   "source": [
    "e=sc.parallelize(range(1,10))\n",
    "e.collect()"
   ]
  }
 ],
 "metadata": {
  "kernelspec": {
   "display_name": "Python 3",
   "language": "python",
   "name": "python3"
  },
  "language_info": {
   "codemirror_mode": {
    "name": "ipython",
    "version": 3
   },
   "file_extension": ".py",
   "mimetype": "text/x-python",
   "name": "python",
   "nbconvert_exporter": "python",
   "pygments_lexer": "ipython3",
   "version": "3.10.12"
  },
  "papermill": {
   "default_parameters": {},
   "duration": 102.365832,
   "end_time": "2023-10-29T22:25:44.577554",
   "environment_variables": {},
   "exception": null,
   "input_path": "__notebook__.ipynb",
   "output_path": "__notebook__.ipynb",
   "parameters": {},
   "start_time": "2023-10-29T22:24:02.211722",
   "version": "2.4.0"
  }
 },
 "nbformat": 4,
 "nbformat_minor": 5
}
